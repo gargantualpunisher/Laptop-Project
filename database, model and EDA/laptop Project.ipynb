{
 "cells": [
  {
   "cell_type": "code",
   "execution_count": 1288,
   "id": "d5eb5243",
   "metadata": {},
   "outputs": [],
   "source": [
    "import pandas as pd\n",
    "import numpy as np"
   ]
  },
  {
   "cell_type": "code",
   "execution_count": 1289,
   "id": "4ba6367a",
   "metadata": {},
   "outputs": [],
   "source": [
    "file = pd.read_excel(r\"D:\\database\\LAPTOP DATASET1.xlsx\")"
   ]
  },
  {
   "cell_type": "code",
   "execution_count": 1290,
   "id": "80daf238",
   "metadata": {},
   "outputs": [
    {
     "data": {
      "text/html": [
       "<div>\n",
       "<style scoped>\n",
       "    .dataframe tbody tr th:only-of-type {\n",
       "        vertical-align: middle;\n",
       "    }\n",
       "\n",
       "    .dataframe tbody tr th {\n",
       "        vertical-align: top;\n",
       "    }\n",
       "\n",
       "    .dataframe thead th {\n",
       "        text-align: right;\n",
       "    }\n",
       "</style>\n",
       "<table border=\"1\" class=\"dataframe\">\n",
       "  <thead>\n",
       "    <tr style=\"text-align: right;\">\n",
       "      <th></th>\n",
       "      <th>IPS</th>\n",
       "      <th>Touchscreen</th>\n",
       "      <th>Company</th>\n",
       "      <th>TypeName</th>\n",
       "      <th>Inches</th>\n",
       "      <th>Ram</th>\n",
       "      <th>graphic_processor</th>\n",
       "      <th>GPU</th>\n",
       "      <th>gigah</th>\n",
       "      <th>OpSys</th>\n",
       "      <th>Weight</th>\n",
       "      <th>Price</th>\n",
       "      <th>core</th>\n",
       "      <th>CPU</th>\n",
       "      <th>screen_varity</th>\n",
       "      <th>primary_memory_1</th>\n",
       "      <th>primary_memory_type</th>\n",
       "      <th>Addition_memory</th>\n",
       "      <th>Screen_x</th>\n",
       "      <th>Screen_y</th>\n",
       "    </tr>\n",
       "  </thead>\n",
       "  <tbody>\n",
       "    <tr>\n",
       "      <th>0</th>\n",
       "      <td>1</td>\n",
       "      <td>0</td>\n",
       "      <td>Apple</td>\n",
       "      <td>Ultrabook</td>\n",
       "      <td>13.3</td>\n",
       "      <td>8</td>\n",
       "      <td>Intel</td>\n",
       "      <td>Iris</td>\n",
       "      <td>2.3</td>\n",
       "      <td>macOS</td>\n",
       "      <td>1.37</td>\n",
       "      <td>71378.6832</td>\n",
       "      <td>i5</td>\n",
       "      <td>Intel</td>\n",
       "      <td>Retina Display</td>\n",
       "      <td>128</td>\n",
       "      <td>SSD</td>\n",
       "      <td>NaN</td>\n",
       "      <td>2560</td>\n",
       "      <td>1600</td>\n",
       "    </tr>\n",
       "    <tr>\n",
       "      <th>1</th>\n",
       "      <td>0</td>\n",
       "      <td>0</td>\n",
       "      <td>Apple</td>\n",
       "      <td>Ultrabook</td>\n",
       "      <td>13.3</td>\n",
       "      <td>8</td>\n",
       "      <td>Intel</td>\n",
       "      <td>HD</td>\n",
       "      <td>1.8</td>\n",
       "      <td>macOS</td>\n",
       "      <td>1.34</td>\n",
       "      <td>47895.5232</td>\n",
       "      <td>i5</td>\n",
       "      <td>Intel</td>\n",
       "      <td>Full HD</td>\n",
       "      <td>128</td>\n",
       "      <td>Flash Storage</td>\n",
       "      <td>NaN</td>\n",
       "      <td>1440</td>\n",
       "      <td>900</td>\n",
       "    </tr>\n",
       "    <tr>\n",
       "      <th>2</th>\n",
       "      <td>0</td>\n",
       "      <td>0</td>\n",
       "      <td>HP</td>\n",
       "      <td>Notebook</td>\n",
       "      <td>15.6</td>\n",
       "      <td>8</td>\n",
       "      <td>Intel</td>\n",
       "      <td>HD</td>\n",
       "      <td>2.5</td>\n",
       "      <td>No OS</td>\n",
       "      <td>1.86</td>\n",
       "      <td>30636.0000</td>\n",
       "      <td>i5</td>\n",
       "      <td>Intel</td>\n",
       "      <td>Full HD</td>\n",
       "      <td>256</td>\n",
       "      <td>SSD</td>\n",
       "      <td>NaN</td>\n",
       "      <td>1920</td>\n",
       "      <td>1080</td>\n",
       "    </tr>\n",
       "    <tr>\n",
       "      <th>3</th>\n",
       "      <td>1</td>\n",
       "      <td>0</td>\n",
       "      <td>Apple</td>\n",
       "      <td>Ultrabook</td>\n",
       "      <td>15.4</td>\n",
       "      <td>16</td>\n",
       "      <td>AMD</td>\n",
       "      <td>Radeon</td>\n",
       "      <td>2.7</td>\n",
       "      <td>macOS</td>\n",
       "      <td>1.83</td>\n",
       "      <td>135195.3360</td>\n",
       "      <td>i7</td>\n",
       "      <td>Intel</td>\n",
       "      <td>Retina Display</td>\n",
       "      <td>512</td>\n",
       "      <td>SSD</td>\n",
       "      <td>NaN</td>\n",
       "      <td>2880</td>\n",
       "      <td>1800</td>\n",
       "    </tr>\n",
       "    <tr>\n",
       "      <th>4</th>\n",
       "      <td>1</td>\n",
       "      <td>0</td>\n",
       "      <td>Apple</td>\n",
       "      <td>Ultrabook</td>\n",
       "      <td>13.3</td>\n",
       "      <td>8</td>\n",
       "      <td>Intel</td>\n",
       "      <td>Iris</td>\n",
       "      <td>3.1</td>\n",
       "      <td>macOS</td>\n",
       "      <td>1.37</td>\n",
       "      <td>96095.8080</td>\n",
       "      <td>i5</td>\n",
       "      <td>Intel</td>\n",
       "      <td>Retina Display</td>\n",
       "      <td>256</td>\n",
       "      <td>SSD</td>\n",
       "      <td>NaN</td>\n",
       "      <td>2560</td>\n",
       "      <td>1600</td>\n",
       "    </tr>\n",
       "    <tr>\n",
       "      <th>...</th>\n",
       "      <td>...</td>\n",
       "      <td>...</td>\n",
       "      <td>...</td>\n",
       "      <td>...</td>\n",
       "      <td>...</td>\n",
       "      <td>...</td>\n",
       "      <td>...</td>\n",
       "      <td>...</td>\n",
       "      <td>...</td>\n",
       "      <td>...</td>\n",
       "      <td>...</td>\n",
       "      <td>...</td>\n",
       "      <td>...</td>\n",
       "      <td>...</td>\n",
       "      <td>...</td>\n",
       "      <td>...</td>\n",
       "      <td>...</td>\n",
       "      <td>...</td>\n",
       "      <td>...</td>\n",
       "      <td>...</td>\n",
       "    </tr>\n",
       "    <tr>\n",
       "      <th>1262</th>\n",
       "      <td>1</td>\n",
       "      <td>1</td>\n",
       "      <td>Lenovo</td>\n",
       "      <td>2 in 1 Convertible</td>\n",
       "      <td>14.0</td>\n",
       "      <td>4</td>\n",
       "      <td>Intel</td>\n",
       "      <td>HD</td>\n",
       "      <td>2.5</td>\n",
       "      <td>Windows 10</td>\n",
       "      <td>1.80</td>\n",
       "      <td>33992.6400</td>\n",
       "      <td>i7</td>\n",
       "      <td>Intel</td>\n",
       "      <td>Full HD</td>\n",
       "      <td>128</td>\n",
       "      <td>SSD</td>\n",
       "      <td>NaN</td>\n",
       "      <td>1920</td>\n",
       "      <td>1080</td>\n",
       "    </tr>\n",
       "    <tr>\n",
       "      <th>1263</th>\n",
       "      <td>1</td>\n",
       "      <td>1</td>\n",
       "      <td>Lenovo</td>\n",
       "      <td>2 in 1 Convertible</td>\n",
       "      <td>13.3</td>\n",
       "      <td>16</td>\n",
       "      <td>Intel</td>\n",
       "      <td>HD</td>\n",
       "      <td>2.5</td>\n",
       "      <td>Windows 10</td>\n",
       "      <td>1.30</td>\n",
       "      <td>79866.7200</td>\n",
       "      <td>i7</td>\n",
       "      <td>Intel</td>\n",
       "      <td>Quad HD+</td>\n",
       "      <td>512</td>\n",
       "      <td>SSD</td>\n",
       "      <td>NaN</td>\n",
       "      <td>3200</td>\n",
       "      <td>1800</td>\n",
       "    </tr>\n",
       "    <tr>\n",
       "      <th>1264</th>\n",
       "      <td>0</td>\n",
       "      <td>0</td>\n",
       "      <td>Lenovo</td>\n",
       "      <td>Notebook</td>\n",
       "      <td>14.0</td>\n",
       "      <td>2</td>\n",
       "      <td>Intel</td>\n",
       "      <td>HD</td>\n",
       "      <td>1.6</td>\n",
       "      <td>Windows 10</td>\n",
       "      <td>1.50</td>\n",
       "      <td>12201.1200</td>\n",
       "      <td>Celeron</td>\n",
       "      <td>Intel</td>\n",
       "      <td>HD</td>\n",
       "      <td>64</td>\n",
       "      <td>Flash Storage</td>\n",
       "      <td>NaN</td>\n",
       "      <td>1366</td>\n",
       "      <td>768</td>\n",
       "    </tr>\n",
       "    <tr>\n",
       "      <th>1265</th>\n",
       "      <td>0</td>\n",
       "      <td>0</td>\n",
       "      <td>HP</td>\n",
       "      <td>Notebook</td>\n",
       "      <td>15.6</td>\n",
       "      <td>6</td>\n",
       "      <td>AMD</td>\n",
       "      <td>Radeon</td>\n",
       "      <td>2.5</td>\n",
       "      <td>Windows 10</td>\n",
       "      <td>2.19</td>\n",
       "      <td>40705.9200</td>\n",
       "      <td>i7</td>\n",
       "      <td>Intel</td>\n",
       "      <td>HD</td>\n",
       "      <td>1000</td>\n",
       "      <td>HDD</td>\n",
       "      <td>NaN</td>\n",
       "      <td>1366</td>\n",
       "      <td>768</td>\n",
       "    </tr>\n",
       "    <tr>\n",
       "      <th>1266</th>\n",
       "      <td>0</td>\n",
       "      <td>0</td>\n",
       "      <td>Asus</td>\n",
       "      <td>Notebook</td>\n",
       "      <td>15.6</td>\n",
       "      <td>4</td>\n",
       "      <td>Intel</td>\n",
       "      <td>HD</td>\n",
       "      <td>1.6</td>\n",
       "      <td>Windows 10</td>\n",
       "      <td>2.20</td>\n",
       "      <td>19660.3200</td>\n",
       "      <td>Celeron</td>\n",
       "      <td>Intel</td>\n",
       "      <td>HD</td>\n",
       "      <td>500</td>\n",
       "      <td>HDD</td>\n",
       "      <td>NaN</td>\n",
       "      <td>1366</td>\n",
       "      <td>768</td>\n",
       "    </tr>\n",
       "  </tbody>\n",
       "</table>\n",
       "<p>1267 rows × 20 columns</p>\n",
       "</div>"
      ],
      "text/plain": [
       "      IPS  Touchscreen Company            TypeName  Inches  Ram  \\\n",
       "0       1            0   Apple           Ultrabook    13.3    8   \n",
       "1       0            0   Apple           Ultrabook    13.3    8   \n",
       "2       0            0      HP            Notebook    15.6    8   \n",
       "3       1            0   Apple           Ultrabook    15.4   16   \n",
       "4       1            0   Apple           Ultrabook    13.3    8   \n",
       "...   ...          ...     ...                 ...     ...  ...   \n",
       "1262    1            1  Lenovo  2 in 1 Convertible    14.0    4   \n",
       "1263    1            1  Lenovo  2 in 1 Convertible    13.3   16   \n",
       "1264    0            0  Lenovo            Notebook    14.0    2   \n",
       "1265    0            0      HP            Notebook    15.6    6   \n",
       "1266    0            0    Asus            Notebook    15.6    4   \n",
       "\n",
       "     graphic_processor     GPU  gigah       OpSys  Weight        Price  \\\n",
       "0                Intel    Iris    2.3       macOS    1.37   71378.6832   \n",
       "1                Intel      HD    1.8       macOS    1.34   47895.5232   \n",
       "2                Intel      HD    2.5       No OS    1.86   30636.0000   \n",
       "3                  AMD  Radeon    2.7       macOS    1.83  135195.3360   \n",
       "4                Intel    Iris    3.1       macOS    1.37   96095.8080   \n",
       "...                ...     ...    ...         ...     ...          ...   \n",
       "1262             Intel      HD    2.5  Windows 10    1.80   33992.6400   \n",
       "1263             Intel      HD    2.5  Windows 10    1.30   79866.7200   \n",
       "1264             Intel      HD    1.6  Windows 10    1.50   12201.1200   \n",
       "1265               AMD  Radeon    2.5  Windows 10    2.19   40705.9200   \n",
       "1266             Intel      HD    1.6  Windows 10    2.20   19660.3200   \n",
       "\n",
       "         core    CPU    screen_varity  primary_memory_1 primary_memory_type  \\\n",
       "0          i5  Intel   Retina Display               128                 SSD   \n",
       "1          i5  Intel         Full HD                128       Flash Storage   \n",
       "2          i5  Intel         Full HD                256                 SSD   \n",
       "3          i7  Intel  Retina Display                512                 SSD   \n",
       "4          i5  Intel   Retina Display               256                 SSD   \n",
       "...       ...    ...              ...               ...                 ...   \n",
       "1262       i7  Intel         Full HD                128                 SSD   \n",
       "1263       i7  Intel        Quad HD+                512                 SSD   \n",
       "1264  Celeron  Intel              HD                 64       Flash Storage   \n",
       "1265       i7  Intel              HD               1000                 HDD   \n",
       "1266  Celeron  Intel              HD                500                 HDD   \n",
       "\n",
       "     Addition_memory  Screen_x  Screen_y  \n",
       "0                NaN      2560      1600  \n",
       "1                NaN      1440       900  \n",
       "2                NaN      1920      1080  \n",
       "3                NaN      2880      1800  \n",
       "4                NaN      2560      1600  \n",
       "...              ...       ...       ...  \n",
       "1262             NaN      1920      1080  \n",
       "1263             NaN      3200      1800  \n",
       "1264             NaN      1366       768  \n",
       "1265             NaN      1366       768  \n",
       "1266             NaN      1366       768  \n",
       "\n",
       "[1267 rows x 20 columns]"
      ]
     },
     "execution_count": 1290,
     "metadata": {},
     "output_type": "execute_result"
    }
   ],
   "source": [
    "file"
   ]
  },
  {
   "cell_type": "code",
   "execution_count": null,
   "id": "d3c94ba2",
   "metadata": {},
   "outputs": [],
   "source": []
  },
  {
   "cell_type": "markdown",
   "id": "a459ed9f",
   "metadata": {},
   "source": [
    "\n",
    "# overview of data\n",
    "\n"
   ]
  },
  {
   "cell_type": "markdown",
   "id": "f915216c",
   "metadata": {},
   "source": [
    "\n",
    "# isnull"
   ]
  },
  {
   "cell_type": "code",
   "execution_count": 1291,
   "id": "a4f9dfed",
   "metadata": {},
   "outputs": [
    {
     "data": {
      "text/plain": [
       "IPS                       0\n",
       "Touchscreen               0\n",
       "Company                   0\n",
       "TypeName                  0\n",
       "Inches                    0\n",
       "Ram                       0\n",
       "graphic_processor         0\n",
       "GPU                       0\n",
       "gigah                     0\n",
       "OpSys                     0\n",
       "Weight                    0\n",
       "Price                     0\n",
       "core                      0\n",
       "CPU                       0\n",
       "screen_varity             0\n",
       "primary_memory_1          0\n",
       "primary_memory_type       0\n",
       "Addition_memory        1066\n",
       "Screen_x                  0\n",
       "Screen_y                  0\n",
       "dtype: int64"
      ]
     },
     "execution_count": 1291,
     "metadata": {},
     "output_type": "execute_result"
    }
   ],
   "source": [
    "file.isnull().sum()"
   ]
  },
  {
   "cell_type": "markdown",
   "id": "13e33514",
   "metadata": {},
   "source": [
    "# Feature Engineering"
   ]
  },
  {
   "cell_type": "markdown",
   "id": "df4daa82",
   "metadata": {},
   "source": [
    "# Additional Column"
   ]
  },
  {
   "cell_type": "code",
   "execution_count": 1292,
   "id": "b5c626d6",
   "metadata": {},
   "outputs": [
    {
     "name": "stderr",
     "output_type": "stream",
     "text": [
      "C:\\Users\\ravin\\AppData\\Local\\Temp\\ipykernel_3040\\2518482212.py:5: FutureWarning: The default value of regex will change from True to False in a future version.\n",
      "  file['Addition_memory'] = file['Addition_memory'].str.replace('1.0TB Hybrid', '1.0TBHybrid')\n"
     ]
    }
   ],
   "source": [
    "file['Addition_memory'] = file['Addition_memory'].str.replace('1TB HDD', '1TBHDD')\n",
    "file['Addition_memory'] = file['Addition_memory'].str.replace('2TB HDD', '2TBHDD')\n",
    "file['Addition_memory'] = file['Addition_memory'].str.replace('256 SSD', '256SSD')\n",
    "file['Addition_memory'] = file['Addition_memory'].str.replace('500 HDD', '500HDD')\n",
    "file['Addition_memory'] = file['Addition_memory'].str.replace('1.0TB Hybrid', '1.0TBHybrid')\n",
    "file['Addition_memory'] = file['Addition_memory'].str.replace('512SSD', '512SSD')"
   ]
  },
  {
   "cell_type": "code",
   "execution_count": 1293,
   "id": "11b5e8f9",
   "metadata": {},
   "outputs": [],
   "source": [
    "fun1 = file['Addition_memory'].str.strip()"
   ]
  },
  {
   "cell_type": "code",
   "execution_count": 1294,
   "id": "fd5d67de",
   "metadata": {},
   "outputs": [
    {
     "data": {
      "text/plain": [
       "array([nan, '1TBHDD', '256GB SSD', '2TBHDD', '500GB HDD', '512GB SSD',\n",
       "       '2000B HDD', '1TB Hybrid'], dtype=object)"
      ]
     },
     "execution_count": 1294,
     "metadata": {},
     "output_type": "execute_result"
    }
   ],
   "source": [
    "fun1.unique()"
   ]
  },
  {
   "cell_type": "code",
   "execution_count": 1295,
   "id": "638c3973",
   "metadata": {},
   "outputs": [],
   "source": [
    "list_hdd = []"
   ]
  },
  {
   "cell_type": "code",
   "execution_count": 1296,
   "id": "13c0fe24",
   "metadata": {},
   "outputs": [],
   "source": [
    "\n",
    "for i in fun1:\n",
    "    \n",
    "    if i == '1TBHDD':\n",
    "        list_hdd.append(1024)\n",
    "    elif i == '500HDD':\n",
    "        list_hdd.append(500)\n",
    "    elif i == '2TBHDD':\n",
    "        list_hdd.append(2048)\n",
    "    else:\n",
    "        list_hdd.append(0)\n",
    "        "
   ]
  },
  {
   "cell_type": "code",
   "execution_count": 1297,
   "id": "b3b3b72a",
   "metadata": {},
   "outputs": [],
   "source": [
    "list_ssd = []"
   ]
  },
  {
   "cell_type": "code",
   "execution_count": 1298,
   "id": "b6fdb382",
   "metadata": {},
   "outputs": [],
   "source": [
    "\n",
    "for i in fun1:\n",
    "    \n",
    "    if i == '256SSD':\n",
    "        list_ssd.append(256)\n",
    "    elif i == '512 SSD':\n",
    "        list_ssd.append(512)\n",
    "    elif i == '128SSD':\n",
    "        list_ssd.append(128)\n",
    "    else:\n",
    "        list_ssd.append(0)\n",
    "        "
   ]
  },
  {
   "cell_type": "code",
   "execution_count": 1299,
   "id": "b9f27d50",
   "metadata": {},
   "outputs": [],
   "source": [
    "list_hybrid = []"
   ]
  },
  {
   "cell_type": "code",
   "execution_count": 1300,
   "id": "ca51c3f8",
   "metadata": {},
   "outputs": [],
   "source": [
    "\n",
    "for i in fun1:\n",
    "    \n",
    "    if i == '1.0TBHybrid':\n",
    "        list_hybrid.append(1024)\n",
    "    else:\n",
    "        list_hybrid.append(0)"
   ]
  },
  {
   "cell_type": "code",
   "execution_count": 1301,
   "id": "32539e60",
   "metadata": {},
   "outputs": [
    {
     "data": {
      "text/plain": [
       "1267"
      ]
     },
     "execution_count": 1301,
     "metadata": {},
     "output_type": "execute_result"
    }
   ],
   "source": [
    "len(list_hybrid)"
   ]
  },
  {
   "cell_type": "code",
   "execution_count": 1302,
   "id": "63055051",
   "metadata": {},
   "outputs": [],
   "source": [
    "file['HDD_Aditional'] = list_hdd\n",
    "file['SSD_Aditional'] = list_ssd\n",
    "\n",
    "file['Hybrid_Aditional'] = list_hybrid"
   ]
  },
  {
   "cell_type": "code",
   "execution_count": 1303,
   "id": "69795360",
   "metadata": {},
   "outputs": [],
   "source": [
    "file1 = file.drop(['Addition_memory'], axis=1)"
   ]
  },
  {
   "cell_type": "code",
   "execution_count": 1304,
   "id": "af98a154",
   "metadata": {},
   "outputs": [
    {
     "data": {
      "text/html": [
       "<div>\n",
       "<style scoped>\n",
       "    .dataframe tbody tr th:only-of-type {\n",
       "        vertical-align: middle;\n",
       "    }\n",
       "\n",
       "    .dataframe tbody tr th {\n",
       "        vertical-align: top;\n",
       "    }\n",
       "\n",
       "    .dataframe thead th {\n",
       "        text-align: right;\n",
       "    }\n",
       "</style>\n",
       "<table border=\"1\" class=\"dataframe\">\n",
       "  <thead>\n",
       "    <tr style=\"text-align: right;\">\n",
       "      <th></th>\n",
       "      <th>IPS</th>\n",
       "      <th>Touchscreen</th>\n",
       "      <th>Company</th>\n",
       "      <th>TypeName</th>\n",
       "      <th>Inches</th>\n",
       "      <th>Ram</th>\n",
       "      <th>graphic_processor</th>\n",
       "      <th>GPU</th>\n",
       "      <th>gigah</th>\n",
       "      <th>OpSys</th>\n",
       "      <th>...</th>\n",
       "      <th>core</th>\n",
       "      <th>CPU</th>\n",
       "      <th>screen_varity</th>\n",
       "      <th>primary_memory_1</th>\n",
       "      <th>primary_memory_type</th>\n",
       "      <th>Screen_x</th>\n",
       "      <th>Screen_y</th>\n",
       "      <th>HDD_Aditional</th>\n",
       "      <th>SSD_Aditional</th>\n",
       "      <th>Hybrid_Aditional</th>\n",
       "    </tr>\n",
       "  </thead>\n",
       "  <tbody>\n",
       "    <tr>\n",
       "      <th>0</th>\n",
       "      <td>1</td>\n",
       "      <td>0</td>\n",
       "      <td>Apple</td>\n",
       "      <td>Ultrabook</td>\n",
       "      <td>13.3</td>\n",
       "      <td>8</td>\n",
       "      <td>Intel</td>\n",
       "      <td>Iris</td>\n",
       "      <td>2.3</td>\n",
       "      <td>macOS</td>\n",
       "      <td>...</td>\n",
       "      <td>i5</td>\n",
       "      <td>Intel</td>\n",
       "      <td>Retina Display</td>\n",
       "      <td>128</td>\n",
       "      <td>SSD</td>\n",
       "      <td>2560</td>\n",
       "      <td>1600</td>\n",
       "      <td>0</td>\n",
       "      <td>0</td>\n",
       "      <td>0</td>\n",
       "    </tr>\n",
       "    <tr>\n",
       "      <th>1</th>\n",
       "      <td>0</td>\n",
       "      <td>0</td>\n",
       "      <td>Apple</td>\n",
       "      <td>Ultrabook</td>\n",
       "      <td>13.3</td>\n",
       "      <td>8</td>\n",
       "      <td>Intel</td>\n",
       "      <td>HD</td>\n",
       "      <td>1.8</td>\n",
       "      <td>macOS</td>\n",
       "      <td>...</td>\n",
       "      <td>i5</td>\n",
       "      <td>Intel</td>\n",
       "      <td>Full HD</td>\n",
       "      <td>128</td>\n",
       "      <td>Flash Storage</td>\n",
       "      <td>1440</td>\n",
       "      <td>900</td>\n",
       "      <td>0</td>\n",
       "      <td>0</td>\n",
       "      <td>0</td>\n",
       "    </tr>\n",
       "    <tr>\n",
       "      <th>2</th>\n",
       "      <td>0</td>\n",
       "      <td>0</td>\n",
       "      <td>HP</td>\n",
       "      <td>Notebook</td>\n",
       "      <td>15.6</td>\n",
       "      <td>8</td>\n",
       "      <td>Intel</td>\n",
       "      <td>HD</td>\n",
       "      <td>2.5</td>\n",
       "      <td>No OS</td>\n",
       "      <td>...</td>\n",
       "      <td>i5</td>\n",
       "      <td>Intel</td>\n",
       "      <td>Full HD</td>\n",
       "      <td>256</td>\n",
       "      <td>SSD</td>\n",
       "      <td>1920</td>\n",
       "      <td>1080</td>\n",
       "      <td>0</td>\n",
       "      <td>0</td>\n",
       "      <td>0</td>\n",
       "    </tr>\n",
       "    <tr>\n",
       "      <th>3</th>\n",
       "      <td>1</td>\n",
       "      <td>0</td>\n",
       "      <td>Apple</td>\n",
       "      <td>Ultrabook</td>\n",
       "      <td>15.4</td>\n",
       "      <td>16</td>\n",
       "      <td>AMD</td>\n",
       "      <td>Radeon</td>\n",
       "      <td>2.7</td>\n",
       "      <td>macOS</td>\n",
       "      <td>...</td>\n",
       "      <td>i7</td>\n",
       "      <td>Intel</td>\n",
       "      <td>Retina Display</td>\n",
       "      <td>512</td>\n",
       "      <td>SSD</td>\n",
       "      <td>2880</td>\n",
       "      <td>1800</td>\n",
       "      <td>0</td>\n",
       "      <td>0</td>\n",
       "      <td>0</td>\n",
       "    </tr>\n",
       "    <tr>\n",
       "      <th>4</th>\n",
       "      <td>1</td>\n",
       "      <td>0</td>\n",
       "      <td>Apple</td>\n",
       "      <td>Ultrabook</td>\n",
       "      <td>13.3</td>\n",
       "      <td>8</td>\n",
       "      <td>Intel</td>\n",
       "      <td>Iris</td>\n",
       "      <td>3.1</td>\n",
       "      <td>macOS</td>\n",
       "      <td>...</td>\n",
       "      <td>i5</td>\n",
       "      <td>Intel</td>\n",
       "      <td>Retina Display</td>\n",
       "      <td>256</td>\n",
       "      <td>SSD</td>\n",
       "      <td>2560</td>\n",
       "      <td>1600</td>\n",
       "      <td>0</td>\n",
       "      <td>0</td>\n",
       "      <td>0</td>\n",
       "    </tr>\n",
       "    <tr>\n",
       "      <th>...</th>\n",
       "      <td>...</td>\n",
       "      <td>...</td>\n",
       "      <td>...</td>\n",
       "      <td>...</td>\n",
       "      <td>...</td>\n",
       "      <td>...</td>\n",
       "      <td>...</td>\n",
       "      <td>...</td>\n",
       "      <td>...</td>\n",
       "      <td>...</td>\n",
       "      <td>...</td>\n",
       "      <td>...</td>\n",
       "      <td>...</td>\n",
       "      <td>...</td>\n",
       "      <td>...</td>\n",
       "      <td>...</td>\n",
       "      <td>...</td>\n",
       "      <td>...</td>\n",
       "      <td>...</td>\n",
       "      <td>...</td>\n",
       "      <td>...</td>\n",
       "    </tr>\n",
       "    <tr>\n",
       "      <th>1262</th>\n",
       "      <td>1</td>\n",
       "      <td>1</td>\n",
       "      <td>Lenovo</td>\n",
       "      <td>2 in 1 Convertible</td>\n",
       "      <td>14.0</td>\n",
       "      <td>4</td>\n",
       "      <td>Intel</td>\n",
       "      <td>HD</td>\n",
       "      <td>2.5</td>\n",
       "      <td>Windows 10</td>\n",
       "      <td>...</td>\n",
       "      <td>i7</td>\n",
       "      <td>Intel</td>\n",
       "      <td>Full HD</td>\n",
       "      <td>128</td>\n",
       "      <td>SSD</td>\n",
       "      <td>1920</td>\n",
       "      <td>1080</td>\n",
       "      <td>0</td>\n",
       "      <td>0</td>\n",
       "      <td>0</td>\n",
       "    </tr>\n",
       "    <tr>\n",
       "      <th>1263</th>\n",
       "      <td>1</td>\n",
       "      <td>1</td>\n",
       "      <td>Lenovo</td>\n",
       "      <td>2 in 1 Convertible</td>\n",
       "      <td>13.3</td>\n",
       "      <td>16</td>\n",
       "      <td>Intel</td>\n",
       "      <td>HD</td>\n",
       "      <td>2.5</td>\n",
       "      <td>Windows 10</td>\n",
       "      <td>...</td>\n",
       "      <td>i7</td>\n",
       "      <td>Intel</td>\n",
       "      <td>Quad HD+</td>\n",
       "      <td>512</td>\n",
       "      <td>SSD</td>\n",
       "      <td>3200</td>\n",
       "      <td>1800</td>\n",
       "      <td>0</td>\n",
       "      <td>0</td>\n",
       "      <td>0</td>\n",
       "    </tr>\n",
       "    <tr>\n",
       "      <th>1264</th>\n",
       "      <td>0</td>\n",
       "      <td>0</td>\n",
       "      <td>Lenovo</td>\n",
       "      <td>Notebook</td>\n",
       "      <td>14.0</td>\n",
       "      <td>2</td>\n",
       "      <td>Intel</td>\n",
       "      <td>HD</td>\n",
       "      <td>1.6</td>\n",
       "      <td>Windows 10</td>\n",
       "      <td>...</td>\n",
       "      <td>Celeron</td>\n",
       "      <td>Intel</td>\n",
       "      <td>HD</td>\n",
       "      <td>64</td>\n",
       "      <td>Flash Storage</td>\n",
       "      <td>1366</td>\n",
       "      <td>768</td>\n",
       "      <td>0</td>\n",
       "      <td>0</td>\n",
       "      <td>0</td>\n",
       "    </tr>\n",
       "    <tr>\n",
       "      <th>1265</th>\n",
       "      <td>0</td>\n",
       "      <td>0</td>\n",
       "      <td>HP</td>\n",
       "      <td>Notebook</td>\n",
       "      <td>15.6</td>\n",
       "      <td>6</td>\n",
       "      <td>AMD</td>\n",
       "      <td>Radeon</td>\n",
       "      <td>2.5</td>\n",
       "      <td>Windows 10</td>\n",
       "      <td>...</td>\n",
       "      <td>i7</td>\n",
       "      <td>Intel</td>\n",
       "      <td>HD</td>\n",
       "      <td>1000</td>\n",
       "      <td>HDD</td>\n",
       "      <td>1366</td>\n",
       "      <td>768</td>\n",
       "      <td>0</td>\n",
       "      <td>0</td>\n",
       "      <td>0</td>\n",
       "    </tr>\n",
       "    <tr>\n",
       "      <th>1266</th>\n",
       "      <td>0</td>\n",
       "      <td>0</td>\n",
       "      <td>Asus</td>\n",
       "      <td>Notebook</td>\n",
       "      <td>15.6</td>\n",
       "      <td>4</td>\n",
       "      <td>Intel</td>\n",
       "      <td>HD</td>\n",
       "      <td>1.6</td>\n",
       "      <td>Windows 10</td>\n",
       "      <td>...</td>\n",
       "      <td>Celeron</td>\n",
       "      <td>Intel</td>\n",
       "      <td>HD</td>\n",
       "      <td>500</td>\n",
       "      <td>HDD</td>\n",
       "      <td>1366</td>\n",
       "      <td>768</td>\n",
       "      <td>0</td>\n",
       "      <td>0</td>\n",
       "      <td>0</td>\n",
       "    </tr>\n",
       "  </tbody>\n",
       "</table>\n",
       "<p>1267 rows × 22 columns</p>\n",
       "</div>"
      ],
      "text/plain": [
       "      IPS  Touchscreen Company            TypeName  Inches  Ram  \\\n",
       "0       1            0   Apple           Ultrabook    13.3    8   \n",
       "1       0            0   Apple           Ultrabook    13.3    8   \n",
       "2       0            0      HP            Notebook    15.6    8   \n",
       "3       1            0   Apple           Ultrabook    15.4   16   \n",
       "4       1            0   Apple           Ultrabook    13.3    8   \n",
       "...   ...          ...     ...                 ...     ...  ...   \n",
       "1262    1            1  Lenovo  2 in 1 Convertible    14.0    4   \n",
       "1263    1            1  Lenovo  2 in 1 Convertible    13.3   16   \n",
       "1264    0            0  Lenovo            Notebook    14.0    2   \n",
       "1265    0            0      HP            Notebook    15.6    6   \n",
       "1266    0            0    Asus            Notebook    15.6    4   \n",
       "\n",
       "     graphic_processor     GPU  gigah       OpSys  ...     core    CPU  \\\n",
       "0                Intel    Iris    2.3       macOS  ...       i5  Intel   \n",
       "1                Intel      HD    1.8       macOS  ...       i5  Intel   \n",
       "2                Intel      HD    2.5       No OS  ...       i5  Intel   \n",
       "3                  AMD  Radeon    2.7       macOS  ...       i7  Intel   \n",
       "4                Intel    Iris    3.1       macOS  ...       i5  Intel   \n",
       "...                ...     ...    ...         ...  ...      ...    ...   \n",
       "1262             Intel      HD    2.5  Windows 10  ...       i7  Intel   \n",
       "1263             Intel      HD    2.5  Windows 10  ...       i7  Intel   \n",
       "1264             Intel      HD    1.6  Windows 10  ...  Celeron  Intel   \n",
       "1265               AMD  Radeon    2.5  Windows 10  ...       i7  Intel   \n",
       "1266             Intel      HD    1.6  Windows 10  ...  Celeron  Intel   \n",
       "\n",
       "        screen_varity primary_memory_1 primary_memory_type  Screen_x Screen_y  \\\n",
       "0      Retina Display              128                 SSD      2560     1600   \n",
       "1            Full HD               128       Flash Storage      1440      900   \n",
       "2            Full HD               256                 SSD      1920     1080   \n",
       "3     Retina Display               512                 SSD      2880     1800   \n",
       "4      Retina Display              256                 SSD      2560     1600   \n",
       "...               ...              ...                 ...       ...      ...   \n",
       "1262         Full HD               128                 SSD      1920     1080   \n",
       "1263        Quad HD+               512                 SSD      3200     1800   \n",
       "1264              HD                64       Flash Storage      1366      768   \n",
       "1265              HD              1000                 HDD      1366      768   \n",
       "1266              HD               500                 HDD      1366      768   \n",
       "\n",
       "      HDD_Aditional  SSD_Aditional  Hybrid_Aditional  \n",
       "0                 0              0                 0  \n",
       "1                 0              0                 0  \n",
       "2                 0              0                 0  \n",
       "3                 0              0                 0  \n",
       "4                 0              0                 0  \n",
       "...             ...            ...               ...  \n",
       "1262              0              0                 0  \n",
       "1263              0              0                 0  \n",
       "1264              0              0                 0  \n",
       "1265              0              0                 0  \n",
       "1266              0              0                 0  \n",
       "\n",
       "[1267 rows x 22 columns]"
      ]
     },
     "execution_count": 1304,
     "metadata": {},
     "output_type": "execute_result"
    }
   ],
   "source": [
    "file1"
   ]
  },
  {
   "cell_type": "markdown",
   "id": "e9327aef",
   "metadata": {},
   "source": [
    "# primary_memory_1"
   ]
  },
  {
   "cell_type": "code",
   "execution_count": 1305,
   "id": "7ce32362",
   "metadata": {},
   "outputs": [],
   "source": [
    "SSD = []\n",
    "HDD = []\n",
    "Flash_Storage= []\n",
    "Hybrid = []"
   ]
  },
  {
   "cell_type": "code",
   "execution_count": 1306,
   "id": "e968cd3c",
   "metadata": {},
   "outputs": [
    {
     "data": {
      "text/plain": [
       "512"
      ]
     },
     "execution_count": 1306,
     "metadata": {},
     "output_type": "execute_result"
    }
   ],
   "source": [
    "file1['primary_memory_1'].loc[3]"
   ]
  },
  {
   "cell_type": "code",
   "execution_count": 1307,
   "id": "957c9d6e",
   "metadata": {},
   "outputs": [],
   "source": [
    "for index, i in enumerate(file1['primary_memory_type']):\n",
    "    if isinstance(i, str) and 'SSD' in i:\n",
    "        SSD.append(file1['primary_memory_1'].loc[index])\n",
    "    else:\n",
    "        SSD.append(0)\n",
    "        "
   ]
  },
  {
   "cell_type": "code",
   "execution_count": 1308,
   "id": "fb86a83e",
   "metadata": {},
   "outputs": [],
   "source": [
    "for index, i in enumerate(file1['primary_memory_type']):\n",
    "    if isinstance(i, str) and 'HDD' in i:\n",
    "        HDD.append(file1['primary_memory_1'].loc[index])\n",
    "    else:\n",
    "        HDD.append(0)"
   ]
  },
  {
   "cell_type": "code",
   "execution_count": 1309,
   "id": "ac161b79",
   "metadata": {},
   "outputs": [],
   "source": [
    "for index, i in enumerate(file1['primary_memory_type']):\n",
    "    if isinstance(i, str) and 'Flash Storage' in i:\n",
    "        Flash_Storage.append(file1['primary_memory_1'].loc[index])\n",
    "    else:\n",
    "        Flash_Storage.append(0)"
   ]
  },
  {
   "cell_type": "code",
   "execution_count": 1310,
   "id": "9d45fca0",
   "metadata": {},
   "outputs": [],
   "source": [
    "for index, i in enumerate(file1['primary_memory_type']):\n",
    "    if isinstance(i, str) and 'Hybrid' in i:\n",
    "        Hybrid.append(file1['primary_memory_1'].loc[index])\n",
    "    else:\n",
    "        Hybrid.append(0)\n",
    "        "
   ]
  },
  {
   "cell_type": "code",
   "execution_count": 1311,
   "id": "632c8a9c",
   "metadata": {},
   "outputs": [],
   "source": [
    "file1['SSD'] = SSD\n",
    "file1['HDD'] = HDD\n",
    "file1['Flash_Storage'] = Flash_Storage\n",
    "file1['Hybrid'] = Hybrid"
   ]
  },
  {
   "cell_type": "code",
   "execution_count": 1312,
   "id": "1be9a70b",
   "metadata": {},
   "outputs": [],
   "source": [
    "file2 = file1.drop(['primary_memory_1','primary_memory_type'], axis=1)"
   ]
  },
  {
   "cell_type": "code",
   "execution_count": 1313,
   "id": "5e3ae499",
   "metadata": {},
   "outputs": [
    {
     "data": {
      "text/html": [
       "<div>\n",
       "<style scoped>\n",
       "    .dataframe tbody tr th:only-of-type {\n",
       "        vertical-align: middle;\n",
       "    }\n",
       "\n",
       "    .dataframe tbody tr th {\n",
       "        vertical-align: top;\n",
       "    }\n",
       "\n",
       "    .dataframe thead th {\n",
       "        text-align: right;\n",
       "    }\n",
       "</style>\n",
       "<table border=\"1\" class=\"dataframe\">\n",
       "  <thead>\n",
       "    <tr style=\"text-align: right;\">\n",
       "      <th></th>\n",
       "      <th>IPS</th>\n",
       "      <th>Touchscreen</th>\n",
       "      <th>Company</th>\n",
       "      <th>TypeName</th>\n",
       "      <th>Inches</th>\n",
       "      <th>Ram</th>\n",
       "      <th>graphic_processor</th>\n",
       "      <th>GPU</th>\n",
       "      <th>gigah</th>\n",
       "      <th>OpSys</th>\n",
       "      <th>...</th>\n",
       "      <th>screen_varity</th>\n",
       "      <th>Screen_x</th>\n",
       "      <th>Screen_y</th>\n",
       "      <th>HDD_Aditional</th>\n",
       "      <th>SSD_Aditional</th>\n",
       "      <th>Hybrid_Aditional</th>\n",
       "      <th>SSD</th>\n",
       "      <th>HDD</th>\n",
       "      <th>Flash_Storage</th>\n",
       "      <th>Hybrid</th>\n",
       "    </tr>\n",
       "  </thead>\n",
       "  <tbody>\n",
       "    <tr>\n",
       "      <th>0</th>\n",
       "      <td>1</td>\n",
       "      <td>0</td>\n",
       "      <td>Apple</td>\n",
       "      <td>Ultrabook</td>\n",
       "      <td>13.3</td>\n",
       "      <td>8</td>\n",
       "      <td>Intel</td>\n",
       "      <td>Iris</td>\n",
       "      <td>2.3</td>\n",
       "      <td>macOS</td>\n",
       "      <td>...</td>\n",
       "      <td>Retina Display</td>\n",
       "      <td>2560</td>\n",
       "      <td>1600</td>\n",
       "      <td>0</td>\n",
       "      <td>0</td>\n",
       "      <td>0</td>\n",
       "      <td>128</td>\n",
       "      <td>0</td>\n",
       "      <td>0</td>\n",
       "      <td>0</td>\n",
       "    </tr>\n",
       "    <tr>\n",
       "      <th>1</th>\n",
       "      <td>0</td>\n",
       "      <td>0</td>\n",
       "      <td>Apple</td>\n",
       "      <td>Ultrabook</td>\n",
       "      <td>13.3</td>\n",
       "      <td>8</td>\n",
       "      <td>Intel</td>\n",
       "      <td>HD</td>\n",
       "      <td>1.8</td>\n",
       "      <td>macOS</td>\n",
       "      <td>...</td>\n",
       "      <td>Full HD</td>\n",
       "      <td>1440</td>\n",
       "      <td>900</td>\n",
       "      <td>0</td>\n",
       "      <td>0</td>\n",
       "      <td>0</td>\n",
       "      <td>0</td>\n",
       "      <td>0</td>\n",
       "      <td>128</td>\n",
       "      <td>0</td>\n",
       "    </tr>\n",
       "    <tr>\n",
       "      <th>2</th>\n",
       "      <td>0</td>\n",
       "      <td>0</td>\n",
       "      <td>HP</td>\n",
       "      <td>Notebook</td>\n",
       "      <td>15.6</td>\n",
       "      <td>8</td>\n",
       "      <td>Intel</td>\n",
       "      <td>HD</td>\n",
       "      <td>2.5</td>\n",
       "      <td>No OS</td>\n",
       "      <td>...</td>\n",
       "      <td>Full HD</td>\n",
       "      <td>1920</td>\n",
       "      <td>1080</td>\n",
       "      <td>0</td>\n",
       "      <td>0</td>\n",
       "      <td>0</td>\n",
       "      <td>256</td>\n",
       "      <td>0</td>\n",
       "      <td>0</td>\n",
       "      <td>0</td>\n",
       "    </tr>\n",
       "    <tr>\n",
       "      <th>3</th>\n",
       "      <td>1</td>\n",
       "      <td>0</td>\n",
       "      <td>Apple</td>\n",
       "      <td>Ultrabook</td>\n",
       "      <td>15.4</td>\n",
       "      <td>16</td>\n",
       "      <td>AMD</td>\n",
       "      <td>Radeon</td>\n",
       "      <td>2.7</td>\n",
       "      <td>macOS</td>\n",
       "      <td>...</td>\n",
       "      <td>Retina Display</td>\n",
       "      <td>2880</td>\n",
       "      <td>1800</td>\n",
       "      <td>0</td>\n",
       "      <td>0</td>\n",
       "      <td>0</td>\n",
       "      <td>512</td>\n",
       "      <td>0</td>\n",
       "      <td>0</td>\n",
       "      <td>0</td>\n",
       "    </tr>\n",
       "    <tr>\n",
       "      <th>4</th>\n",
       "      <td>1</td>\n",
       "      <td>0</td>\n",
       "      <td>Apple</td>\n",
       "      <td>Ultrabook</td>\n",
       "      <td>13.3</td>\n",
       "      <td>8</td>\n",
       "      <td>Intel</td>\n",
       "      <td>Iris</td>\n",
       "      <td>3.1</td>\n",
       "      <td>macOS</td>\n",
       "      <td>...</td>\n",
       "      <td>Retina Display</td>\n",
       "      <td>2560</td>\n",
       "      <td>1600</td>\n",
       "      <td>0</td>\n",
       "      <td>0</td>\n",
       "      <td>0</td>\n",
       "      <td>256</td>\n",
       "      <td>0</td>\n",
       "      <td>0</td>\n",
       "      <td>0</td>\n",
       "    </tr>\n",
       "    <tr>\n",
       "      <th>...</th>\n",
       "      <td>...</td>\n",
       "      <td>...</td>\n",
       "      <td>...</td>\n",
       "      <td>...</td>\n",
       "      <td>...</td>\n",
       "      <td>...</td>\n",
       "      <td>...</td>\n",
       "      <td>...</td>\n",
       "      <td>...</td>\n",
       "      <td>...</td>\n",
       "      <td>...</td>\n",
       "      <td>...</td>\n",
       "      <td>...</td>\n",
       "      <td>...</td>\n",
       "      <td>...</td>\n",
       "      <td>...</td>\n",
       "      <td>...</td>\n",
       "      <td>...</td>\n",
       "      <td>...</td>\n",
       "      <td>...</td>\n",
       "      <td>...</td>\n",
       "    </tr>\n",
       "    <tr>\n",
       "      <th>1262</th>\n",
       "      <td>1</td>\n",
       "      <td>1</td>\n",
       "      <td>Lenovo</td>\n",
       "      <td>2 in 1 Convertible</td>\n",
       "      <td>14.0</td>\n",
       "      <td>4</td>\n",
       "      <td>Intel</td>\n",
       "      <td>HD</td>\n",
       "      <td>2.5</td>\n",
       "      <td>Windows 10</td>\n",
       "      <td>...</td>\n",
       "      <td>Full HD</td>\n",
       "      <td>1920</td>\n",
       "      <td>1080</td>\n",
       "      <td>0</td>\n",
       "      <td>0</td>\n",
       "      <td>0</td>\n",
       "      <td>128</td>\n",
       "      <td>0</td>\n",
       "      <td>0</td>\n",
       "      <td>0</td>\n",
       "    </tr>\n",
       "    <tr>\n",
       "      <th>1263</th>\n",
       "      <td>1</td>\n",
       "      <td>1</td>\n",
       "      <td>Lenovo</td>\n",
       "      <td>2 in 1 Convertible</td>\n",
       "      <td>13.3</td>\n",
       "      <td>16</td>\n",
       "      <td>Intel</td>\n",
       "      <td>HD</td>\n",
       "      <td>2.5</td>\n",
       "      <td>Windows 10</td>\n",
       "      <td>...</td>\n",
       "      <td>Quad HD+</td>\n",
       "      <td>3200</td>\n",
       "      <td>1800</td>\n",
       "      <td>0</td>\n",
       "      <td>0</td>\n",
       "      <td>0</td>\n",
       "      <td>512</td>\n",
       "      <td>0</td>\n",
       "      <td>0</td>\n",
       "      <td>0</td>\n",
       "    </tr>\n",
       "    <tr>\n",
       "      <th>1264</th>\n",
       "      <td>0</td>\n",
       "      <td>0</td>\n",
       "      <td>Lenovo</td>\n",
       "      <td>Notebook</td>\n",
       "      <td>14.0</td>\n",
       "      <td>2</td>\n",
       "      <td>Intel</td>\n",
       "      <td>HD</td>\n",
       "      <td>1.6</td>\n",
       "      <td>Windows 10</td>\n",
       "      <td>...</td>\n",
       "      <td>HD</td>\n",
       "      <td>1366</td>\n",
       "      <td>768</td>\n",
       "      <td>0</td>\n",
       "      <td>0</td>\n",
       "      <td>0</td>\n",
       "      <td>0</td>\n",
       "      <td>0</td>\n",
       "      <td>64</td>\n",
       "      <td>0</td>\n",
       "    </tr>\n",
       "    <tr>\n",
       "      <th>1265</th>\n",
       "      <td>0</td>\n",
       "      <td>0</td>\n",
       "      <td>HP</td>\n",
       "      <td>Notebook</td>\n",
       "      <td>15.6</td>\n",
       "      <td>6</td>\n",
       "      <td>AMD</td>\n",
       "      <td>Radeon</td>\n",
       "      <td>2.5</td>\n",
       "      <td>Windows 10</td>\n",
       "      <td>...</td>\n",
       "      <td>HD</td>\n",
       "      <td>1366</td>\n",
       "      <td>768</td>\n",
       "      <td>0</td>\n",
       "      <td>0</td>\n",
       "      <td>0</td>\n",
       "      <td>0</td>\n",
       "      <td>1000</td>\n",
       "      <td>0</td>\n",
       "      <td>0</td>\n",
       "    </tr>\n",
       "    <tr>\n",
       "      <th>1266</th>\n",
       "      <td>0</td>\n",
       "      <td>0</td>\n",
       "      <td>Asus</td>\n",
       "      <td>Notebook</td>\n",
       "      <td>15.6</td>\n",
       "      <td>4</td>\n",
       "      <td>Intel</td>\n",
       "      <td>HD</td>\n",
       "      <td>1.6</td>\n",
       "      <td>Windows 10</td>\n",
       "      <td>...</td>\n",
       "      <td>HD</td>\n",
       "      <td>1366</td>\n",
       "      <td>768</td>\n",
       "      <td>0</td>\n",
       "      <td>0</td>\n",
       "      <td>0</td>\n",
       "      <td>0</td>\n",
       "      <td>500</td>\n",
       "      <td>0</td>\n",
       "      <td>0</td>\n",
       "    </tr>\n",
       "  </tbody>\n",
       "</table>\n",
       "<p>1267 rows × 24 columns</p>\n",
       "</div>"
      ],
      "text/plain": [
       "      IPS  Touchscreen Company            TypeName  Inches  Ram  \\\n",
       "0       1            0   Apple           Ultrabook    13.3    8   \n",
       "1       0            0   Apple           Ultrabook    13.3    8   \n",
       "2       0            0      HP            Notebook    15.6    8   \n",
       "3       1            0   Apple           Ultrabook    15.4   16   \n",
       "4       1            0   Apple           Ultrabook    13.3    8   \n",
       "...   ...          ...     ...                 ...     ...  ...   \n",
       "1262    1            1  Lenovo  2 in 1 Convertible    14.0    4   \n",
       "1263    1            1  Lenovo  2 in 1 Convertible    13.3   16   \n",
       "1264    0            0  Lenovo            Notebook    14.0    2   \n",
       "1265    0            0      HP            Notebook    15.6    6   \n",
       "1266    0            0    Asus            Notebook    15.6    4   \n",
       "\n",
       "     graphic_processor     GPU  gigah       OpSys  ...    screen_varity  \\\n",
       "0                Intel    Iris    2.3       macOS  ...   Retina Display   \n",
       "1                Intel      HD    1.8       macOS  ...         Full HD    \n",
       "2                Intel      HD    2.5       No OS  ...         Full HD    \n",
       "3                  AMD  Radeon    2.7       macOS  ...  Retina Display    \n",
       "4                Intel    Iris    3.1       macOS  ...   Retina Display   \n",
       "...                ...     ...    ...         ...  ...              ...   \n",
       "1262             Intel      HD    2.5  Windows 10  ...         Full HD    \n",
       "1263             Intel      HD    2.5  Windows 10  ...        Quad HD+    \n",
       "1264             Intel      HD    1.6  Windows 10  ...              HD    \n",
       "1265               AMD  Radeon    2.5  Windows 10  ...              HD    \n",
       "1266             Intel      HD    1.6  Windows 10  ...              HD    \n",
       "\n",
       "      Screen_x Screen_y HDD_Aditional SSD_Aditional  Hybrid_Aditional  SSD  \\\n",
       "0         2560     1600             0             0                 0  128   \n",
       "1         1440      900             0             0                 0    0   \n",
       "2         1920     1080             0             0                 0  256   \n",
       "3         2880     1800             0             0                 0  512   \n",
       "4         2560     1600             0             0                 0  256   \n",
       "...        ...      ...           ...           ...               ...  ...   \n",
       "1262      1920     1080             0             0                 0  128   \n",
       "1263      3200     1800             0             0                 0  512   \n",
       "1264      1366      768             0             0                 0    0   \n",
       "1265      1366      768             0             0                 0    0   \n",
       "1266      1366      768             0             0                 0    0   \n",
       "\n",
       "       HDD  Flash_Storage  Hybrid  \n",
       "0        0              0       0  \n",
       "1        0            128       0  \n",
       "2        0              0       0  \n",
       "3        0              0       0  \n",
       "4        0              0       0  \n",
       "...    ...            ...     ...  \n",
       "1262     0              0       0  \n",
       "1263     0              0       0  \n",
       "1264     0             64       0  \n",
       "1265  1000              0       0  \n",
       "1266   500              0       0  \n",
       "\n",
       "[1267 rows x 24 columns]"
      ]
     },
     "execution_count": 1313,
     "metadata": {},
     "output_type": "execute_result"
    }
   ],
   "source": [
    "file2"
   ]
  },
  {
   "cell_type": "markdown",
   "id": "91d218e7",
   "metadata": {},
   "source": [
    "# Resolution"
   ]
  },
  {
   "cell_type": "code",
   "execution_count": 1314,
   "id": "b6e9d4c2",
   "metadata": {},
   "outputs": [],
   "source": [
    "file2['Screen_x'] = file2['Screen_x'].astype(int)\n",
    "file2['Screen_y'] = file2['Screen_y'].astype(int)\n",
    "file2['Inches'] = file2['Inches'].astype(float)\n"
   ]
  },
  {
   "cell_type": "code",
   "execution_count": 1315,
   "id": "dfb698f7",
   "metadata": {},
   "outputs": [],
   "source": [
    "def ppi(x, y, Inches):\n",
    "    \n",
    "    num = np.sqrt(x**2 + y**2)\n",
    "    den = Inches\n",
    "    pp = num / den\n",
    "    return pp"
   ]
  },
  {
   "cell_type": "code",
   "execution_count": 1316,
   "id": "c14e9b7a",
   "metadata": {},
   "outputs": [],
   "source": [
    "file2['PPI'] = ppi(file2['Screen_x'], file2['Screen_y'], file2['Inches'])"
   ]
  },
  {
   "cell_type": "code",
   "execution_count": 1317,
   "id": "1faaeec1",
   "metadata": {},
   "outputs": [],
   "source": [
    "file2 = file2.drop(['Screen_x','Screen_y'], axis=1)"
   ]
  },
  {
   "cell_type": "code",
   "execution_count": 1318,
   "id": "1c54a00b",
   "metadata": {},
   "outputs": [
    {
     "name": "stdout",
     "output_type": "stream",
     "text": [
      "<class 'pandas.core.frame.DataFrame'>\n",
      "RangeIndex: 1267 entries, 0 to 1266\n",
      "Data columns (total 23 columns):\n",
      " #   Column             Non-Null Count  Dtype  \n",
      "---  ------             --------------  -----  \n",
      " 0   IPS                1267 non-null   int64  \n",
      " 1   Touchscreen        1267 non-null   int64  \n",
      " 2   Company            1267 non-null   object \n",
      " 3   TypeName           1267 non-null   object \n",
      " 4   Inches             1267 non-null   float64\n",
      " 5   Ram                1267 non-null   int64  \n",
      " 6   graphic_processor  1267 non-null   object \n",
      " 7   GPU                1267 non-null   object \n",
      " 8   gigah              1267 non-null   float64\n",
      " 9   OpSys              1267 non-null   object \n",
      " 10  Weight             1267 non-null   float64\n",
      " 11  Price              1267 non-null   float64\n",
      " 12  core               1267 non-null   object \n",
      " 13  CPU                1267 non-null   object \n",
      " 14  screen_varity      1267 non-null   object \n",
      " 15  HDD_Aditional      1267 non-null   int64  \n",
      " 16  SSD_Aditional      1267 non-null   int64  \n",
      " 17  Hybrid_Aditional   1267 non-null   int64  \n",
      " 18  SSD                1267 non-null   int64  \n",
      " 19  HDD                1267 non-null   int64  \n",
      " 20  Flash_Storage      1267 non-null   int64  \n",
      " 21  Hybrid             1267 non-null   int64  \n",
      " 22  PPI                1267 non-null   float64\n",
      "dtypes: float64(5), int64(10), object(8)\n",
      "memory usage: 227.8+ KB\n"
     ]
    }
   ],
   "source": [
    "file2.info()"
   ]
  },
  {
   "cell_type": "markdown",
   "id": "a1909893",
   "metadata": {},
   "source": [
    "# features imputation"
   ]
  },
  {
   "cell_type": "code",
   "execution_count": 1319,
   "id": "7c4b999e",
   "metadata": {},
   "outputs": [],
   "source": [
    "file11 = file2.copy()\n",
    "file11['Inches'] = file11['Inches'].astype(float)\n",
    "file2['Weight'] = file2['Weight'].astype(float)"
   ]
  },
  {
   "cell_type": "markdown",
   "id": "8f8e9fe7",
   "metadata": {},
   "source": [
    "# Outliers "
   ]
  },
  {
   "cell_type": "code",
   "execution_count": 1320,
   "id": "8e362e03",
   "metadata": {},
   "outputs": [
    {
     "data": {
      "image/png": "[encoded data removed]",
      "text/plain": [
       "<Figure size 640x480 with 1 Axes>"
      ]
     },
     "metadata": {},
     "output_type": "display_data"
    },
    {
     "data": {
      "image/png": "[encoded data removed]",
      "text/plain": [
       "<Figure size 640x480 with 1 Axes>"
      ]
     },
     "metadata": {},
     "output_type": "display_data"
    },
    {
     "data": {
      "image/png": "[encoded data removed]",
      "text/plain": [
       "<Figure size 640x480 with 1 Axes>"
      ]
     },
     "metadata": {},
     "output_type": "display_data"
    },
    {
     "data": {
      "image/png": "[encoded data removed]",
      "text/plain": [
       "<Figure size 640x480 with 1 Axes>"
      ]
     },
     "metadata": {},
     "output_type": "display_data"
    },
    {
     "data": {
      "image/png": "[encoded data removed]",
      "text/plain": [
       "<Figure size 640x480 with 1 Axes>"
      ]
     },
     "metadata": {},
     "output_type": "display_data"
    },
    {
     "data": {
      "image/png": "[encoded data removed]",
      "text/plain": [
       "<Figure size 640x480 with 1 Axes>"
      ]
     },
     "metadata": {},
     "output_type": "display_data"
    },
    {
     "data": {
      "image/png": "[encoded data removed]",
      "text/plain": [
       "<Figure size 640x480 with 1 Axes>"
      ]
     },
     "metadata": {},
     "output_type": "display_data"
    },
    {
     "data": {
      "image/png": "[encoded data removed]",
      "text/plain": [
       "<Figure size 640x480 with 1 Axes>"
      ]
     },
     "metadata": {},
     "output_type": "display_data"
    },
    {
     "data": {
      "image/png": "[encoded data removed]",
      "text/plain": [
       "<Figure size 640x480 with 1 Axes>"
      ]
     },
     "metadata": {},
     "output_type": "display_data"
    },
    {
     "data": {
      "image/png": "[encoded data removed]",
      "text/plain": [
       "<Figure size 640x480 with 1 Axes>"
      ]
     },
     "metadata": {},
     "output_type": "display_data"
    },
    {
     "data": {
      "image/png": "[encoded data removed]",
      "text/plain": [
       "<Figure size 640x480 with 1 Axes>"
      ]
     },
     "metadata": {},
     "output_type": "display_data"
    },
    {
     "data": {
      "image/png": "[encoded data removed]",
      "text/plain": [
       "<Figure size 640x480 with 1 Axes>"
      ]
     },
     "metadata": {},
     "output_type": "display_data"
    },
    {
     "data": {
      "image/png": "[encoded data removed]",
      "text/plain": [
       "<Figure size 640x480 with 1 Axes>"
      ]
     },
     "metadata": {},
     "output_type": "display_data"
    },
    {
     "data": {
      "image/png": "[encoded data removed]",
      "text/plain": [
       "<Figure size 640x480 with 1 Axes>"
      ]
     },
     "metadata": {},
     "output_type": "display_data"
    },
    {
     "data": {
      "image/png": "[encoded data removed]",
      "text/plain": [
       "<Figure size 640x480 with 1 Axes>"
      ]
     },
     "metadata": {},
     "output_type": "display_data"
    }
   ],
   "source": [
    "for i in file2.columns:\n",
    "    if file2[i].dtype !='object':\n",
    "        sns.boxplot(data=file2, x=i)\n",
    "        plt.show()"
   ]
  },
  {
   "cell_type": "code",
   "execution_count": 1321,
   "id": "1e51f685",
   "metadata": {},
   "outputs": [],
   "source": [
    "\n",
    "file21 = file2[file2['Inches'] <= 23]\n",
    "file22 = file21[file21['Price'] <= 160000]\n",
    "file23 = file22[file22['Inches'] >= 12]\n",
    "file24 = file23[file23['Weight'] <= 5]\n",
    "file25 = file24[file24['PPI'] <= 200]"
   ]
  },
  {
   "cell_type": "code",
   "execution_count": 1322,
   "id": "d2d9af66",
   "metadata": {},
   "outputs": [
    {
     "data": {
      "image/png": "[encoded data removed]",
      "text/plain": [
       "<Figure size 640x480 with 1 Axes>"
      ]
     },
     "metadata": {},
     "output_type": "display_data"
    },
    {
     "data": {
      "image/png": "[encoded data removed]",
      "text/plain": [
       "<Figure size 640x480 with 1 Axes>"
      ]
     },
     "metadata": {},
     "output_type": "display_data"
    },
    {
     "data": {
      "image/png": "[encoded data removed]",
      "text/plain": [
       "<Figure size 640x480 with 1 Axes>"
      ]
     },
     "metadata": {},
     "output_type": "display_data"
    },
    {
     "data": {
      "image/png": "[encoded data removed]",
      "text/plain": [
       "<Figure size 640x480 with 1 Axes>"
      ]
     },
     "metadata": {},
     "output_type": "display_data"
    },
    {
     "data": {
      "image/png": "[encoded data removed]",
      "text/plain": [
       "<Figure size 640x480 with 1 Axes>"
      ]
     },
     "metadata": {},
     "output_type": "display_data"
    },
    {
     "data": {
      "image/png": "[encoded data removed]",
      "text/plain": [
       "<Figure size 640x480 with 1 Axes>"
      ]
     },
     "metadata": {},
     "output_type": "display_data"
    },
    {
     "data": {
      "image/png": "[encoded data removed]",
      "text/plain": [
       "<Figure size 640x480 with 1 Axes>"
      ]
     },
     "metadata": {},
     "output_type": "display_data"
    },
    {
     "data": {
      "image/png": "[encoded data removed]",
      "text/plain": [
       "<Figure size 640x480 with 1 Axes>"
      ]
     },
     "metadata": {},
     "output_type": "display_data"
    },
    {
     "data": {
      "image/png": "[encoded data removed]",
      "text/plain": [
       "<Figure size 640x480 with 1 Axes>"
      ]
     },
     "metadata": {},
     "output_type": "display_data"
    },
    {
     "data": {
      "image/png": "[encoded data removed]",
      "text/plain": [
       "<Figure size 640x480 with 1 Axes>"
      ]
     },
     "metadata": {},
     "output_type": "display_data"
    },
    {
     "data": {
      "image/png": "[encoded data removed]",
      "text/plain": [
       "<Figure size 640x480 with 1 Axes>"
      ]
     },
     "metadata": {},
     "output_type": "display_data"
    },
    {
     "data": {
      "image/png": "[encoded data removed]",
      "text/plain": [
       "<Figure size 640x480 with 1 Axes>"
      ]
     },
     "metadata": {},
     "output_type": "display_data"
    },
    {
     "data": {
      "image/png": "[encoded data removed]",
      "text/plain": [
       "<Figure size 640x480 with 1 Axes>"
      ]
     },
     "metadata": {},
     "output_type": "display_data"
    },
    {
     "data": {
      "image/png": "[encoded data removed]",
      "text/plain": [
       "<Figure size 640x480 with 1 Axes>"
      ]
     },
     "metadata": {},
     "output_type": "display_data"
    },
    {
     "data": {
      "image/png": "[encoded data removed]",
      "text/plain": [
       "<Figure size 640x480 with 1 Axes>"
      ]
     },
     "metadata": {},
     "output_type": "display_data"
    }
   ],
   "source": [
    "for i in file25.columns:\n",
    "    if file25[i].dtype !='object':\n",
    "        sns.boxplot(data=file25, x=i)\n",
    "        plt.show()"
   ]
  },
  {
   "cell_type": "code",
   "execution_count": 1323,
   "id": "7667e863",
   "metadata": {},
   "outputs": [],
   "source": [
    "file25 = file25.reset_index()\n",
    "file25 = file25.drop(['index'], axis=1)"
   ]
  },
  {
   "cell_type": "code",
   "execution_count": 1324,
   "id": "d95b8fc3",
   "metadata": {},
   "outputs": [
    {
     "data": {
      "text/plain": [
       "array(['Intel', 'AMD', 'Nvidia'], dtype=object)"
      ]
     },
     "execution_count": 1324,
     "metadata": {},
     "output_type": "execute_result"
    }
   ],
   "source": [
    "file25['graphic_processor'].unique()"
   ]
  },
  {
   "cell_type": "code",
   "execution_count": 1325,
   "id": "54ebf8ba",
   "metadata": {},
   "outputs": [
    {
     "data": {
      "text/plain": [
       "IPS                  0\n",
       "Touchscreen          0\n",
       "Company              0\n",
       "TypeName             0\n",
       "Inches               0\n",
       "Ram                  0\n",
       "graphic_processor    0\n",
       "GPU                  0\n",
       "gigah                0\n",
       "OpSys                0\n",
       "Weight               0\n",
       "Price                0\n",
       "core                 0\n",
       "CPU                  0\n",
       "screen_varity        0\n",
       "HDD_Aditional        0\n",
       "SSD_Aditional        0\n",
       "Hybrid_Aditional     0\n",
       "SSD                  0\n",
       "HDD                  0\n",
       "Flash_Storage        0\n",
       "Hybrid               0\n",
       "PPI                  0\n",
       "dtype: int64"
      ]
     },
     "execution_count": 1325,
     "metadata": {},
     "output_type": "execute_result"
    }
   ],
   "source": [
    "file25.isnull().sum()"
   ]
  },
  {
   "cell_type": "markdown",
   "id": "0a6dde5c",
   "metadata": {},
   "source": [
    "# OneHotEncoder"
   ]
  },
  {
   "cell_type": "code",
   "execution_count": 1326,
   "id": "c978fb9a",
   "metadata": {},
   "outputs": [],
   "source": [
    "from sklearn.preprocessing import OneHotEncoder"
   ]
  },
  {
   "cell_type": "code",
   "execution_count": 1327,
   "id": "cf1c9d7b",
   "metadata": {},
   "outputs": [],
   "source": [
    "cate = [i for i  in file25.columns if file25[i].dtypes =='object']\n",
    "\n",
    "categorical = file25[cate]\n",
    "\n",
    "num = [i for i  in file25.columns if file25[i].dtypes !='object']\n",
    "\n",
    "numerical = file25[num]"
   ]
  },
  {
   "cell_type": "code",
   "execution_count": 1328,
   "id": "d0a45d8a",
   "metadata": {},
   "outputs": [],
   "source": [
    "ohe1 = OneHotEncoder(drop='first', sparse=False)"
   ]
  },
  {
   "cell_type": "code",
   "execution_count": 1329,
   "id": "163fbab3",
   "metadata": {},
   "outputs": [
    {
     "name": "stderr",
     "output_type": "stream",
     "text": [
      "C:\\Users\\ravin\\anaconda3\\Lib\\site-packages\\sklearn\\preprocessing\\_encoders.py:975: FutureWarning: `sparse` was renamed to `sparse_output` in version 1.2 and will be removed in 1.4. `sparse_output` is ignored unless you leave `sparse` to its default value.\n",
      "  warnings.warn(\n"
     ]
    }
   ],
   "source": [
    "encoded = pd.DataFrame(ohe1.fit_transform(categorical))"
   ]
  },
  {
   "cell_type": "code",
   "execution_count": 1330,
   "id": "8c99496b",
   "metadata": {},
   "outputs": [],
   "source": [
    "done = pd.merge(numerical, encoded, right_index=True, left_index=True)"
   ]
  },
  {
   "cell_type": "code",
   "execution_count": 1331,
   "id": "f7357b09",
   "metadata": {},
   "outputs": [
    {
     "data": {
      "text/plain": [
       "(1094, 78)"
      ]
     },
     "execution_count": 1331,
     "metadata": {},
     "output_type": "execute_result"
    }
   ],
   "source": [
    "done.shape"
   ]
  },
  {
   "cell_type": "markdown",
   "id": "9441d8af",
   "metadata": {},
   "source": [
    "# Multicollinearity check"
   ]
  },
  {
   "cell_type": "code",
   "execution_count": 1332,
   "id": "6787648c",
   "metadata": {},
   "outputs": [
    {
     "data": {
      "text/plain": [
       "<Axes: >"
      ]
     },
     "execution_count": 1332,
     "metadata": {},
     "output_type": "execute_result"
    },
    {
     "data": {
      "image/png": "[encoded data removed]",
      "text/plain": [
       "<Figure size 1200x800 with 2 Axes>"
      ]
     },
     "metadata": {},
     "output_type": "display_data"
    }
   ],
   "source": [
    "plt.figure(figsize=(12,8))\n",
    "sns.heatmap(numerical.corr(),annot=True)"
   ]
  },
  {
   "cell_type": "code",
   "execution_count": null,
   "id": "bf6d2270",
   "metadata": {},
   "outputs": [],
   "source": []
  },
  {
   "cell_type": "markdown",
   "id": "f1f50d40",
   "metadata": {},
   "source": [
    "# Drop Correlated columns"
   ]
  },
  {
   "cell_type": "code",
   "execution_count": 1334,
   "id": "15c6f158",
   "metadata": {},
   "outputs": [],
   "source": [
    "done1 = done.drop(['Inches','HDD_Aditional','SSD_Aditional','Hybrid_Aditional'], axis=1)"
   ]
  },
  {
   "cell_type": "code",
   "execution_count": 1335,
   "id": "2ee679d0",
   "metadata": {},
   "outputs": [
    {
     "data": {
      "text/html": [
       "<div>\n",
       "<style scoped>\n",
       "    .dataframe tbody tr th:only-of-type {\n",
       "        vertical-align: middle;\n",
       "    }\n",
       "\n",
       "    .dataframe tbody tr th {\n",
       "        vertical-align: top;\n",
       "    }\n",
       "\n",
       "    .dataframe thead th {\n",
       "        text-align: right;\n",
       "    }\n",
       "</style>\n",
       "<table border=\"1\" class=\"dataframe\">\n",
       "  <thead>\n",
       "    <tr style=\"text-align: right;\">\n",
       "      <th></th>\n",
       "      <th>IPS</th>\n",
       "      <th>Touchscreen</th>\n",
       "      <th>Ram</th>\n",
       "      <th>gigah</th>\n",
       "      <th>Weight</th>\n",
       "      <th>Price</th>\n",
       "      <th>SSD</th>\n",
       "      <th>HDD</th>\n",
       "      <th>Flash_Storage</th>\n",
       "      <th>Hybrid</th>\n",
       "      <th>...</th>\n",
       "      <th>53</th>\n",
       "      <th>54</th>\n",
       "      <th>55</th>\n",
       "      <th>56</th>\n",
       "      <th>57</th>\n",
       "      <th>58</th>\n",
       "      <th>59</th>\n",
       "      <th>60</th>\n",
       "      <th>61</th>\n",
       "      <th>62</th>\n",
       "    </tr>\n",
       "  </thead>\n",
       "  <tbody>\n",
       "    <tr>\n",
       "      <th>0</th>\n",
       "      <td>0</td>\n",
       "      <td>0</td>\n",
       "      <td>8</td>\n",
       "      <td>1.8</td>\n",
       "      <td>1.34</td>\n",
       "      <td>47895.5232</td>\n",
       "      <td>0</td>\n",
       "      <td>0</td>\n",
       "      <td>128</td>\n",
       "      <td>0</td>\n",
       "      <td>...</td>\n",
       "      <td>0.0</td>\n",
       "      <td>1.0</td>\n",
       "      <td>0.0</td>\n",
       "      <td>1.0</td>\n",
       "      <td>1.0</td>\n",
       "      <td>0.0</td>\n",
       "      <td>0.0</td>\n",
       "      <td>0.0</td>\n",
       "      <td>0.0</td>\n",
       "      <td>0.0</td>\n",
       "    </tr>\n",
       "    <tr>\n",
       "      <th>1</th>\n",
       "      <td>0</td>\n",
       "      <td>0</td>\n",
       "      <td>8</td>\n",
       "      <td>2.5</td>\n",
       "      <td>1.86</td>\n",
       "      <td>30636.0000</td>\n",
       "      <td>256</td>\n",
       "      <td>0</td>\n",
       "      <td>0</td>\n",
       "      <td>0</td>\n",
       "      <td>...</td>\n",
       "      <td>0.0</td>\n",
       "      <td>1.0</td>\n",
       "      <td>0.0</td>\n",
       "      <td>1.0</td>\n",
       "      <td>1.0</td>\n",
       "      <td>0.0</td>\n",
       "      <td>0.0</td>\n",
       "      <td>0.0</td>\n",
       "      <td>0.0</td>\n",
       "      <td>0.0</td>\n",
       "    </tr>\n",
       "    <tr>\n",
       "      <th>2</th>\n",
       "      <td>0</td>\n",
       "      <td>0</td>\n",
       "      <td>4</td>\n",
       "      <td>3.0</td>\n",
       "      <td>2.10</td>\n",
       "      <td>21312.0000</td>\n",
       "      <td>0</td>\n",
       "      <td>500</td>\n",
       "      <td>0</td>\n",
       "      <td>0</td>\n",
       "      <td>...</td>\n",
       "      <td>0.0</td>\n",
       "      <td>0.0</td>\n",
       "      <td>0.0</td>\n",
       "      <td>0.0</td>\n",
       "      <td>0.0</td>\n",
       "      <td>1.0</td>\n",
       "      <td>0.0</td>\n",
       "      <td>0.0</td>\n",
       "      <td>0.0</td>\n",
       "      <td>0.0</td>\n",
       "    </tr>\n",
       "    <tr>\n",
       "      <th>3</th>\n",
       "      <td>0</td>\n",
       "      <td>0</td>\n",
       "      <td>8</td>\n",
       "      <td>1.8</td>\n",
       "      <td>1.34</td>\n",
       "      <td>61735.5360</td>\n",
       "      <td>0</td>\n",
       "      <td>0</td>\n",
       "      <td>256</td>\n",
       "      <td>0</td>\n",
       "      <td>...</td>\n",
       "      <td>0.0</td>\n",
       "      <td>1.0</td>\n",
       "      <td>0.0</td>\n",
       "      <td>1.0</td>\n",
       "      <td>1.0</td>\n",
       "      <td>0.0</td>\n",
       "      <td>0.0</td>\n",
       "      <td>0.0</td>\n",
       "      <td>0.0</td>\n",
       "      <td>0.0</td>\n",
       "    </tr>\n",
       "    <tr>\n",
       "      <th>4</th>\n",
       "      <td>0</td>\n",
       "      <td>0</td>\n",
       "      <td>16</td>\n",
       "      <td>1.8</td>\n",
       "      <td>1.30</td>\n",
       "      <td>79653.6000</td>\n",
       "      <td>512</td>\n",
       "      <td>0</td>\n",
       "      <td>0</td>\n",
       "      <td>0</td>\n",
       "      <td>...</td>\n",
       "      <td>0.0</td>\n",
       "      <td>0.0</td>\n",
       "      <td>1.0</td>\n",
       "      <td>1.0</td>\n",
       "      <td>1.0</td>\n",
       "      <td>0.0</td>\n",
       "      <td>0.0</td>\n",
       "      <td>0.0</td>\n",
       "      <td>0.0</td>\n",
       "      <td>0.0</td>\n",
       "    </tr>\n",
       "    <tr>\n",
       "      <th>...</th>\n",
       "      <td>...</td>\n",
       "      <td>...</td>\n",
       "      <td>...</td>\n",
       "      <td>...</td>\n",
       "      <td>...</td>\n",
       "      <td>...</td>\n",
       "      <td>...</td>\n",
       "      <td>...</td>\n",
       "      <td>...</td>\n",
       "      <td>...</td>\n",
       "      <td>...</td>\n",
       "      <td>...</td>\n",
       "      <td>...</td>\n",
       "      <td>...</td>\n",
       "      <td>...</td>\n",
       "      <td>...</td>\n",
       "      <td>...</td>\n",
       "      <td>...</td>\n",
       "      <td>...</td>\n",
       "      <td>...</td>\n",
       "      <td>...</td>\n",
       "    </tr>\n",
       "    <tr>\n",
       "      <th>1089</th>\n",
       "      <td>0</td>\n",
       "      <td>0</td>\n",
       "      <td>4</td>\n",
       "      <td>2.5</td>\n",
       "      <td>2.20</td>\n",
       "      <td>38378.6496</td>\n",
       "      <td>0</td>\n",
       "      <td>500</td>\n",
       "      <td>0</td>\n",
       "      <td>0</td>\n",
       "      <td>...</td>\n",
       "      <td>0.0</td>\n",
       "      <td>0.0</td>\n",
       "      <td>1.0</td>\n",
       "      <td>1.0</td>\n",
       "      <td>0.0</td>\n",
       "      <td>0.0</td>\n",
       "      <td>1.0</td>\n",
       "      <td>0.0</td>\n",
       "      <td>0.0</td>\n",
       "      <td>0.0</td>\n",
       "    </tr>\n",
       "    <tr>\n",
       "      <th>1090</th>\n",
       "      <td>1</td>\n",
       "      <td>1</td>\n",
       "      <td>4</td>\n",
       "      <td>2.5</td>\n",
       "      <td>1.80</td>\n",
       "      <td>33992.6400</td>\n",
       "      <td>128</td>\n",
       "      <td>0</td>\n",
       "      <td>0</td>\n",
       "      <td>0</td>\n",
       "      <td>...</td>\n",
       "      <td>0.0</td>\n",
       "      <td>0.0</td>\n",
       "      <td>1.0</td>\n",
       "      <td>1.0</td>\n",
       "      <td>1.0</td>\n",
       "      <td>0.0</td>\n",
       "      <td>0.0</td>\n",
       "      <td>0.0</td>\n",
       "      <td>0.0</td>\n",
       "      <td>0.0</td>\n",
       "    </tr>\n",
       "    <tr>\n",
       "      <th>1091</th>\n",
       "      <td>0</td>\n",
       "      <td>0</td>\n",
       "      <td>2</td>\n",
       "      <td>1.6</td>\n",
       "      <td>1.50</td>\n",
       "      <td>12201.1200</td>\n",
       "      <td>0</td>\n",
       "      <td>0</td>\n",
       "      <td>64</td>\n",
       "      <td>0</td>\n",
       "      <td>...</td>\n",
       "      <td>0.0</td>\n",
       "      <td>0.0</td>\n",
       "      <td>0.0</td>\n",
       "      <td>1.0</td>\n",
       "      <td>0.0</td>\n",
       "      <td>0.0</td>\n",
       "      <td>1.0</td>\n",
       "      <td>0.0</td>\n",
       "      <td>0.0</td>\n",
       "      <td>0.0</td>\n",
       "    </tr>\n",
       "    <tr>\n",
       "      <th>1092</th>\n",
       "      <td>0</td>\n",
       "      <td>0</td>\n",
       "      <td>6</td>\n",
       "      <td>2.5</td>\n",
       "      <td>2.19</td>\n",
       "      <td>40705.9200</td>\n",
       "      <td>0</td>\n",
       "      <td>1000</td>\n",
       "      <td>0</td>\n",
       "      <td>0</td>\n",
       "      <td>...</td>\n",
       "      <td>0.0</td>\n",
       "      <td>0.0</td>\n",
       "      <td>1.0</td>\n",
       "      <td>1.0</td>\n",
       "      <td>0.0</td>\n",
       "      <td>0.0</td>\n",
       "      <td>1.0</td>\n",
       "      <td>0.0</td>\n",
       "      <td>0.0</td>\n",
       "      <td>0.0</td>\n",
       "    </tr>\n",
       "    <tr>\n",
       "      <th>1093</th>\n",
       "      <td>0</td>\n",
       "      <td>0</td>\n",
       "      <td>4</td>\n",
       "      <td>1.6</td>\n",
       "      <td>2.20</td>\n",
       "      <td>19660.3200</td>\n",
       "      <td>0</td>\n",
       "      <td>500</td>\n",
       "      <td>0</td>\n",
       "      <td>0</td>\n",
       "      <td>...</td>\n",
       "      <td>0.0</td>\n",
       "      <td>0.0</td>\n",
       "      <td>0.0</td>\n",
       "      <td>1.0</td>\n",
       "      <td>0.0</td>\n",
       "      <td>0.0</td>\n",
       "      <td>1.0</td>\n",
       "      <td>0.0</td>\n",
       "      <td>0.0</td>\n",
       "      <td>0.0</td>\n",
       "    </tr>\n",
       "  </tbody>\n",
       "</table>\n",
       "<p>1094 rows × 74 columns</p>\n",
       "</div>"
      ],
      "text/plain": [
       "      IPS  Touchscreen  Ram  gigah  Weight       Price  SSD   HDD  \\\n",
       "0       0            0    8    1.8    1.34  47895.5232    0     0   \n",
       "1       0            0    8    2.5    1.86  30636.0000  256     0   \n",
       "2       0            0    4    3.0    2.10  21312.0000    0   500   \n",
       "3       0            0    8    1.8    1.34  61735.5360    0     0   \n",
       "4       0            0   16    1.8    1.30  79653.6000  512     0   \n",
       "...   ...          ...  ...    ...     ...         ...  ...   ...   \n",
       "1089    0            0    4    2.5    2.20  38378.6496    0   500   \n",
       "1090    1            1    4    2.5    1.80  33992.6400  128     0   \n",
       "1091    0            0    2    1.6    1.50  12201.1200    0     0   \n",
       "1092    0            0    6    2.5    2.19  40705.9200    0  1000   \n",
       "1093    0            0    4    1.6    2.20  19660.3200    0   500   \n",
       "\n",
       "      Flash_Storage  Hybrid  ...   53   54   55   56   57   58   59   60   61  \\\n",
       "0               128       0  ...  0.0  1.0  0.0  1.0  1.0  0.0  0.0  0.0  0.0   \n",
       "1                 0       0  ...  0.0  1.0  0.0  1.0  1.0  0.0  0.0  0.0  0.0   \n",
       "2                 0       0  ...  0.0  0.0  0.0  0.0  0.0  1.0  0.0  0.0  0.0   \n",
       "3               256       0  ...  0.0  1.0  0.0  1.0  1.0  0.0  0.0  0.0  0.0   \n",
       "4                 0       0  ...  0.0  0.0  1.0  1.0  1.0  0.0  0.0  0.0  0.0   \n",
       "...             ...     ...  ...  ...  ...  ...  ...  ...  ...  ...  ...  ...   \n",
       "1089              0       0  ...  0.0  0.0  1.0  1.0  0.0  0.0  1.0  0.0  0.0   \n",
       "1090              0       0  ...  0.0  0.0  1.0  1.0  1.0  0.0  0.0  0.0  0.0   \n",
       "1091             64       0  ...  0.0  0.0  0.0  1.0  0.0  0.0  1.0  0.0  0.0   \n",
       "1092              0       0  ...  0.0  0.0  1.0  1.0  0.0  0.0  1.0  0.0  0.0   \n",
       "1093              0       0  ...  0.0  0.0  0.0  1.0  0.0  0.0  1.0  0.0  0.0   \n",
       "\n",
       "       62  \n",
       "0     0.0  \n",
       "1     0.0  \n",
       "2     0.0  \n",
       "3     0.0  \n",
       "4     0.0  \n",
       "...   ...  \n",
       "1089  0.0  \n",
       "1090  0.0  \n",
       "1091  0.0  \n",
       "1092  0.0  \n",
       "1093  0.0  \n",
       "\n",
       "[1094 rows x 74 columns]"
      ]
     },
     "execution_count": 1335,
     "metadata": {},
     "output_type": "execute_result"
    }
   ],
   "source": [
    "done1"
   ]
  },
  {
   "cell_type": "markdown",
   "id": "5d249664",
   "metadata": {},
   "source": [
    "# train test split"
   ]
  },
  {
   "cell_type": "code",
   "execution_count": 1336,
   "id": "fcc5ecb6",
   "metadata": {},
   "outputs": [],
   "source": [
    "x = done1.drop(['Price'], axis=1)\n",
    "y = done1['Price']"
   ]
  },
  {
   "cell_type": "code",
   "execution_count": 1337,
   "id": "67827fc6",
   "metadata": {},
   "outputs": [],
   "source": [
    "from sklearn.model_selection import train_test_split"
   ]
  },
  {
   "cell_type": "code",
   "execution_count": 1338,
   "id": "fd1fd769",
   "metadata": {},
   "outputs": [],
   "source": [
    "x_train, x_test, y_train, y_test = train_test_split(x, y, test_size=0.20, random_state=42)"
   ]
  },
  {
   "cell_type": "code",
   "execution_count": null,
   "id": "c048f9d2",
   "metadata": {},
   "outputs": [],
   "source": []
  },
  {
   "cell_type": "markdown",
   "id": "8cd4de64",
   "metadata": {},
   "source": [
    "# Assumption of auto correlation"
   ]
  },
  {
   "cell_type": "code",
   "execution_count": 1339,
   "id": "9e8e1bac",
   "metadata": {},
   "outputs": [],
   "source": [
    "from statsmodels.stats.stattools import durbin_watson\n",
    "import statsmodels.api as sm"
   ]
  },
  {
   "cell_type": "code",
   "execution_count": 1340,
   "id": "4e258fd8",
   "metadata": {},
   "outputs": [],
   "source": [
    "x10 = sm.add_constant(x)\n",
    "\n",
    "model = sm.OLS(y, x10).fit()"
   ]
  },
  {
   "cell_type": "code",
   "execution_count": 1341,
   "id": "0cf5b35c",
   "metadata": {},
   "outputs": [],
   "source": [
    "residuals10 = model.resid"
   ]
  },
  {
   "cell_type": "code",
   "execution_count": 1342,
   "id": "4a046250",
   "metadata": {},
   "outputs": [],
   "source": [
    "dw_test = durbin_watson(residuals10)"
   ]
  },
  {
   "cell_type": "code",
   "execution_count": 1343,
   "id": "379a39ac",
   "metadata": {},
   "outputs": [
    {
     "data": {
      "text/plain": [
       "1.8444910355930486"
      ]
     },
     "execution_count": 1343,
     "metadata": {},
     "output_type": "execute_result"
    }
   ],
   "source": [
    "dw_test"
   ]
  },
  {
   "cell_type": "code",
   "execution_count": null,
   "id": "d085d4e0",
   "metadata": {},
   "outputs": [],
   "source": []
  },
  {
   "cell_type": "markdown",
   "id": "c9e0bc8e",
   "metadata": {},
   "source": [
    "# Homosedesticity check"
   ]
  },
  {
   "cell_type": "code",
   "execution_count": 1344,
   "id": "d9300a1b",
   "metadata": {},
   "outputs": [],
   "source": [
    "from statsmodels.stats.diagnostic import het_breuschpagan"
   ]
  },
  {
   "cell_type": "code",
   "execution_count": 1345,
   "id": "24063c7b",
   "metadata": {},
   "outputs": [],
   "source": [
    "im, imp_value, f_value, f_pvalue = het_breuschpagan(residuals10, x10)"
   ]
  },
  {
   "cell_type": "code",
   "execution_count": 1346,
   "id": "8a5e2ad3",
   "metadata": {},
   "outputs": [
    {
     "name": "stdout",
     "output_type": "stream",
     "text": [
      "hetersedesticity\n"
     ]
    }
   ],
   "source": [
    "if imp_value < 0.05:\n",
    "    print('hetersedesticity')\n",
    "else:\n",
    "    print('homoscedesticity')"
   ]
  },
  {
   "cell_type": "code",
   "execution_count": null,
   "id": "5c20bfeb",
   "metadata": {},
   "outputs": [],
   "source": []
  },
  {
   "cell_type": "markdown",
   "id": "3cb8c77f",
   "metadata": {},
   "source": [
    "# Model Building"
   ]
  },
  {
   "cell_type": "markdown",
   "id": "7c85734a",
   "metadata": {},
   "source": [
    "# Linear model"
   ]
  },
  {
   "cell_type": "code",
   "execution_count": 1347,
   "id": "abf681a2",
   "metadata": {},
   "outputs": [],
   "source": [
    "from sklearn.metrics import r2_score, mean_squared_error\n",
    "from math import sqrt\n",
    "from sklearn.linear_model import LinearRegression"
   ]
  },
  {
   "cell_type": "code",
   "execution_count": 1348,
   "id": "d6468e58",
   "metadata": {},
   "outputs": [],
   "source": [
    "lr = LinearRegression()"
   ]
  },
  {
   "cell_type": "code",
   "execution_count": 1349,
   "id": "902f73b2",
   "metadata": {},
   "outputs": [
    {
     "data": {
      "text/html": [
       "<style>#sk-container-id-43 {color: black;}#sk-container-id-43 pre{padding: 0;}#sk-container-id-43 div.sk-toggleable {background-color: white;}#sk-container-id-43 label.sk-toggleable__label {cursor: pointer;display: block;width: 100%;margin-bottom: 0;padding: 0.3em;box-sizing: border-box;text-align: center;}#sk-container-id-43 label.sk-toggleable__label-arrow:before {content: \"▸\";float: left;margin-right: 0.25em;color: #696969;}#sk-container-id-43 label.sk-toggleable__label-arrow:hover:before {color: black;}#sk-container-id-43 div.sk-estimator:hover label.sk-toggleable__label-arrow:before {color: black;}#sk-container-id-43 div.sk-toggleable__content {max-height: 0;max-width: 0;overflow: hidden;text-align: left;background-color: #f0f8ff;}#sk-container-id-43 div.sk-toggleable__content pre {margin: 0.2em;color: black;border-radius: 0.25em;background-color: #f0f8ff;}#sk-container-id-43 input.sk-toggleable__control:checked~div.sk-toggleable__content {max-height: 200px;max-width: 100%;overflow: auto;}#sk-container-id-43 input.sk-toggleable__control:checked~label.sk-toggleable__label-arrow:before {content: \"▾\";}#sk-container-id-43 div.sk-estimator input.sk-toggleable__control:checked~label.sk-toggleable__label {background-color: #d4ebff;}#sk-container-id-43 div.sk-label input.sk-toggleable__control:checked~label.sk-toggleable__label {background-color: #d4ebff;}#sk-container-id-43 input.sk-hidden--visually {border: 0;clip: rect(1px 1px 1px 1px);clip: rect(1px, 1px, 1px, 1px);height: 1px;margin: -1px;overflow: hidden;padding: 0;position: absolute;width: 1px;}#sk-container-id-43 div.sk-estimator {font-family: monospace;background-color: #f0f8ff;border: 1px dotted black;border-radius: 0.25em;box-sizing: border-box;margin-bottom: 0.5em;}#sk-container-id-43 div.sk-estimator:hover {background-color: #d4ebff;}#sk-container-id-43 div.sk-parallel-item::after {content: \"\";width: 100%;border-bottom: 1px solid gray;flex-grow: 1;}#sk-container-id-43 div.sk-label:hover label.sk-toggleable__label {background-color: #d4ebff;}#sk-container-id-43 div.sk-serial::before {content: \"\";position: absolute;border-left: 1px solid gray;box-sizing: border-box;top: 0;bottom: 0;left: 50%;z-index: 0;}#sk-container-id-43 div.sk-serial {display: flex;flex-direction: column;align-items: center;background-color: white;padding-right: 0.2em;padding-left: 0.2em;position: relative;}#sk-container-id-43 div.sk-item {position: relative;z-index: 1;}#sk-container-id-43 div.sk-parallel {display: flex;align-items: stretch;justify-content: center;background-color: white;position: relative;}#sk-container-id-43 div.sk-item::before, #sk-container-id-43 div.sk-parallel-item::before {content: \"\";position: absolute;border-left: 1px solid gray;box-sizing: border-box;top: 0;bottom: 0;left: 50%;z-index: -1;}#sk-container-id-43 div.sk-parallel-item {display: flex;flex-direction: column;z-index: 1;position: relative;background-color: white;}#sk-container-id-43 div.sk-parallel-item:first-child::after {align-self: flex-end;width: 50%;}#sk-container-id-43 div.sk-parallel-item:last-child::after {align-self: flex-start;width: 50%;}#sk-container-id-43 div.sk-parallel-item:only-child::after {width: 0;}#sk-container-id-43 div.sk-dashed-wrapped {border: 1px dashed gray;margin: 0 0.4em 0.5em 0.4em;box-sizing: border-box;padding-bottom: 0.4em;background-color: white;}#sk-container-id-43 div.sk-label label {font-family: monospace;font-weight: bold;display: inline-block;line-height: 1.2em;}#sk-container-id-43 div.sk-label-container {text-align: center;}#sk-container-id-43 div.sk-container {/* jupyter's `normalize.less` sets `[hidden] { display: none; }` but bootstrap.min.css set `[hidden] { display: none !important; }` so we also need the `!important` here to be able to override the default hidden behavior on the sphinx rendered scikit-learn.org. See: https://github.com/scikit-learn/scikit-learn/issues/21755 */display: inline-block !important;position: relative;}#sk-container-id-43 div.sk-text-repr-fallback {display: none;}</style><div id=\"sk-container-id-43\" class=\"sk-top-container\"><div class=\"sk-text-repr-fallback\"><pre>LinearRegression()</pre><b>In a Jupyter environment, please rerun this cell to show the HTML representation or trust the notebook. <br />On GitHub, the HTML representation is unable to render, please try loading this page with nbviewer.org.</b></div><div class=\"sk-container\" hidden><div class=\"sk-item\"><div class=\"sk-estimator sk-toggleable\"><input class=\"sk-toggleable__control sk-hidden--visually\" id=\"sk-estimator-id-43\" type=\"checkbox\" checked><label for=\"sk-estimator-id-43\" class=\"sk-toggleable__label sk-toggleable__label-arrow\">LinearRegression</label><div class=\"sk-toggleable__content\"><pre>LinearRegression()</pre></div></div></div></div></div>"
      ],
      "text/plain": [
       "LinearRegression()"
      ]
     },
     "execution_count": 1349,
     "metadata": {},
     "output_type": "execute_result"
    }
   ],
   "source": [
    "x_train.columns = x_train.columns.astype(str)\n",
    "lr.fit(x_train, y_train)"
   ]
  },
  {
   "cell_type": "code",
   "execution_count": 1350,
   "id": "12f019d0",
   "metadata": {},
   "outputs": [],
   "source": [
    "x_test.columns = x_test.columns.astype(str)\n",
    "predict_train = lr.predict(x_train)\n",
    "predict_test = lr.predict(x_test)"
   ]
  },
  {
   "cell_type": "markdown",
   "id": "d8d850d5",
   "metadata": {},
   "source": [
    "# Accuracy_score"
   ]
  },
  {
   "cell_type": "code",
   "execution_count": 1351,
   "id": "dab10b15",
   "metadata": {},
   "outputs": [
    {
     "data": {
      "text/plain": [
       "0.715330789668789"
      ]
     },
     "execution_count": 1351,
     "metadata": {},
     "output_type": "execute_result"
    }
   ],
   "source": [
    "r2_score(predict_train, y_train)"
   ]
  },
  {
   "cell_type": "code",
   "execution_count": 1352,
   "id": "a2cee397",
   "metadata": {},
   "outputs": [
    {
     "data": {
      "text/plain": [
       "0.7068792443321965"
      ]
     },
     "execution_count": 1352,
     "metadata": {},
     "output_type": "execute_result"
    }
   ],
   "source": [
    "r2_score(predict_test, y_test)"
   ]
  },
  {
   "cell_type": "code",
   "execution_count": null,
   "id": "7d55d59c",
   "metadata": {},
   "outputs": [],
   "source": []
  },
  {
   "cell_type": "markdown",
   "id": "91559011",
   "metadata": {},
   "source": [
    "# assumption check(Linearity)"
   ]
  },
  {
   "cell_type": "code",
   "execution_count": 1353,
   "id": "4cf5818b",
   "metadata": {},
   "outputs": [],
   "source": [
    "residuals = y_train - predict_train"
   ]
  },
  {
   "cell_type": "code",
   "execution_count": 1354,
   "id": "9529eba0",
   "metadata": {},
   "outputs": [
    {
     "data": {
      "text/plain": [
       "<Axes: ylabel='Price'>"
      ]
     },
     "execution_count": 1354,
     "metadata": {},
     "output_type": "execute_result"
    },
    {
     "data": {
      "image/png": "[encoded data removed]",
      "text/plain": [
       "<Figure size 640x480 with 1 Axes>"
      ]
     },
     "metadata": {},
     "output_type": "display_data"
    }
   ],
   "source": [
    "sns.scatterplot(x = predict_train, y=residuals)"
   ]
  },
  {
   "cell_type": "markdown",
   "id": "ffb38d0e",
   "metadata": {},
   "source": [
    "# Residual Normally distributed( Normality)"
   ]
  },
  {
   "cell_type": "code",
   "execution_count": 1355,
   "id": "39e5edb8",
   "metadata": {},
   "outputs": [],
   "source": [
    "from scipy import stats"
   ]
  },
  {
   "cell_type": "code",
   "execution_count": 1356,
   "id": "a6d514e3",
   "metadata": {},
   "outputs": [],
   "source": [
    "test_statistic, p_value = stats.normaltest(residuals)"
   ]
  },
  {
   "cell_type": "code",
   "execution_count": 1357,
   "id": "63fa4025",
   "metadata": {},
   "outputs": [
    {
     "name": "stdout",
     "output_type": "stream",
     "text": [
      "not\n"
     ]
    }
   ],
   "source": [
    "if p_value > 0.05:\n",
    "    print('normal')\n",
    "else:\n",
    "    print('not')"
   ]
  },
  {
   "cell_type": "code",
   "execution_count": 1358,
   "id": "c32cf0bb",
   "metadata": {},
   "outputs": [
    {
     "data": {
      "text/plain": [
       "<Axes: xlabel='Price', ylabel='Count'>"
      ]
     },
     "execution_count": 1358,
     "metadata": {},
     "output_type": "execute_result"
    },
    {
     "data": {
      "image/png": "[encoded data removed]",
      "text/plain": [
       "<Figure size 640x480 with 1 Axes>"
      ]
     },
     "metadata": {},
     "output_type": "display_data"
    }
   ],
   "source": [
    "sns.histplot(residuals)"
   ]
  },
  {
   "cell_type": "code",
   "execution_count": null,
   "id": "da49d72f",
   "metadata": {},
   "outputs": [],
   "source": []
  },
  {
   "cell_type": "markdown",
   "id": "6efe91b8",
   "metadata": {},
   "source": [
    "# Cross Validation Score"
   ]
  },
  {
   "cell_type": "code",
   "execution_count": 1359,
   "id": "31169ad7",
   "metadata": {},
   "outputs": [],
   "source": [
    "from sklearn.model_selection import cross_val_score"
   ]
  },
  {
   "cell_type": "code",
   "execution_count": 1360,
   "id": "7ebca533",
   "metadata": {},
   "outputs": [],
   "source": [
    "cvs1 = cross_val_score(lr, x_test, y_test)"
   ]
  },
  {
   "cell_type": "code",
   "execution_count": 1361,
   "id": "9ec9c27a",
   "metadata": {},
   "outputs": [
    {
     "data": {
      "text/plain": [
       "0.668413333462673"
      ]
     },
     "execution_count": 1361,
     "metadata": {},
     "output_type": "execute_result"
    }
   ],
   "source": [
    "cvs1.mean()"
   ]
  },
  {
   "cell_type": "code",
   "execution_count": null,
   "id": "9607d39d",
   "metadata": {},
   "outputs": [],
   "source": []
  },
  {
   "cell_type": "markdown",
   "id": "e852f1ea",
   "metadata": {},
   "source": [
    "# Gradient boosting "
   ]
  },
  {
   "cell_type": "code",
   "execution_count": 1362,
   "id": "bd4573ce",
   "metadata": {},
   "outputs": [],
   "source": [
    "from sklearn.ensemble import GradientBoostingRegressor"
   ]
  },
  {
   "cell_type": "code",
   "execution_count": 1370,
   "id": "e5b827b4",
   "metadata": {},
   "outputs": [],
   "source": [
    "x_train2, x_test2, y_train2, y_test2 = train_test_split(x, y, test_size=0.20, random_state=1)"
   ]
  },
  {
   "cell_type": "code",
   "execution_count": 1371,
   "id": "ae7d27d4",
   "metadata": {},
   "outputs": [],
   "source": [
    "gsr = GradientBoostingRegressor(max_depth=3)"
   ]
  },
  {
   "cell_type": "code",
   "execution_count": 1372,
   "id": "4d9a2766",
   "metadata": {},
   "outputs": [
    {
     "data": {
      "text/html": [
       "<style>#sk-container-id-45 {color: black;}#sk-container-id-45 pre{padding: 0;}#sk-container-id-45 div.sk-toggleable {background-color: white;}#sk-container-id-45 label.sk-toggleable__label {cursor: pointer;display: block;width: 100%;margin-bottom: 0;padding: 0.3em;box-sizing: border-box;text-align: center;}#sk-container-id-45 label.sk-toggleable__label-arrow:before {content: \"▸\";float: left;margin-right: 0.25em;color: #696969;}#sk-container-id-45 label.sk-toggleable__label-arrow:hover:before {color: black;}#sk-container-id-45 div.sk-estimator:hover label.sk-toggleable__label-arrow:before {color: black;}#sk-container-id-45 div.sk-toggleable__content {max-height: 0;max-width: 0;overflow: hidden;text-align: left;background-color: #f0f8ff;}#sk-container-id-45 div.sk-toggleable__content pre {margin: 0.2em;color: black;border-radius: 0.25em;background-color: #f0f8ff;}#sk-container-id-45 input.sk-toggleable__control:checked~div.sk-toggleable__content {max-height: 200px;max-width: 100%;overflow: auto;}#sk-container-id-45 input.sk-toggleable__control:checked~label.sk-toggleable__label-arrow:before {content: \"▾\";}#sk-container-id-45 div.sk-estimator input.sk-toggleable__control:checked~label.sk-toggleable__label {background-color: #d4ebff;}#sk-container-id-45 div.sk-label input.sk-toggleable__control:checked~label.sk-toggleable__label {background-color: #d4ebff;}#sk-container-id-45 input.sk-hidden--visually {border: 0;clip: rect(1px 1px 1px 1px);clip: rect(1px, 1px, 1px, 1px);height: 1px;margin: -1px;overflow: hidden;padding: 0;position: absolute;width: 1px;}#sk-container-id-45 div.sk-estimator {font-family: monospace;background-color: #f0f8ff;border: 1px dotted black;border-radius: 0.25em;box-sizing: border-box;margin-bottom: 0.5em;}#sk-container-id-45 div.sk-estimator:hover {background-color: #d4ebff;}#sk-container-id-45 div.sk-parallel-item::after {content: \"\";width: 100%;border-bottom: 1px solid gray;flex-grow: 1;}#sk-container-id-45 div.sk-label:hover label.sk-toggleable__label {background-color: #d4ebff;}#sk-container-id-45 div.sk-serial::before {content: \"\";position: absolute;border-left: 1px solid gray;box-sizing: border-box;top: 0;bottom: 0;left: 50%;z-index: 0;}#sk-container-id-45 div.sk-serial {display: flex;flex-direction: column;align-items: center;background-color: white;padding-right: 0.2em;padding-left: 0.2em;position: relative;}#sk-container-id-45 div.sk-item {position: relative;z-index: 1;}#sk-container-id-45 div.sk-parallel {display: flex;align-items: stretch;justify-content: center;background-color: white;position: relative;}#sk-container-id-45 div.sk-item::before, #sk-container-id-45 div.sk-parallel-item::before {content: \"\";position: absolute;border-left: 1px solid gray;box-sizing: border-box;top: 0;bottom: 0;left: 50%;z-index: -1;}#sk-container-id-45 div.sk-parallel-item {display: flex;flex-direction: column;z-index: 1;position: relative;background-color: white;}#sk-container-id-45 div.sk-parallel-item:first-child::after {align-self: flex-end;width: 50%;}#sk-container-id-45 div.sk-parallel-item:last-child::after {align-self: flex-start;width: 50%;}#sk-container-id-45 div.sk-parallel-item:only-child::after {width: 0;}#sk-container-id-45 div.sk-dashed-wrapped {border: 1px dashed gray;margin: 0 0.4em 0.5em 0.4em;box-sizing: border-box;padding-bottom: 0.4em;background-color: white;}#sk-container-id-45 div.sk-label label {font-family: monospace;font-weight: bold;display: inline-block;line-height: 1.2em;}#sk-container-id-45 div.sk-label-container {text-align: center;}#sk-container-id-45 div.sk-container {/* jupyter's `normalize.less` sets `[hidden] { display: none; }` but bootstrap.min.css set `[hidden] { display: none !important; }` so we also need the `!important` here to be able to override the default hidden behavior on the sphinx rendered scikit-learn.org. See: https://github.com/scikit-learn/scikit-learn/issues/21755 */display: inline-block !important;position: relative;}#sk-container-id-45 div.sk-text-repr-fallback {display: none;}</style><div id=\"sk-container-id-45\" class=\"sk-top-container\"><div class=\"sk-text-repr-fallback\"><pre>GradientBoostingRegressor()</pre><b>In a Jupyter environment, please rerun this cell to show the HTML representation or trust the notebook. <br />On GitHub, the HTML representation is unable to render, please try loading this page with nbviewer.org.</b></div><div class=\"sk-container\" hidden><div class=\"sk-item\"><div class=\"sk-estimator sk-toggleable\"><input class=\"sk-toggleable__control sk-hidden--visually\" id=\"sk-estimator-id-45\" type=\"checkbox\" checked><label for=\"sk-estimator-id-45\" class=\"sk-toggleable__label sk-toggleable__label-arrow\">GradientBoostingRegressor</label><div class=\"sk-toggleable__content\"><pre>GradientBoostingRegressor()</pre></div></div></div></div></div>"
      ],
      "text/plain": [
       "GradientBoostingRegressor()"
      ]
     },
     "execution_count": 1372,
     "metadata": {},
     "output_type": "execute_result"
    }
   ],
   "source": [
    "x_train2.columns = x_train2.columns.astype(str)\n",
    "\n",
    "x_test2.columns = x_test2.columns.astype(str)\n",
    "\n",
    "gsr.fit(x_train2, y_train2)"
   ]
  },
  {
   "cell_type": "markdown",
   "id": "d8cd86cf",
   "metadata": {},
   "source": [
    "# Predict result"
   ]
  },
  {
   "cell_type": "code",
   "execution_count": 1373,
   "id": "2e1787b9",
   "metadata": {},
   "outputs": [],
   "source": [
    "predict_xtrain2 = gsr.predict(x_train2)\n",
    "\n",
    "predict_xtest2 = gsr.predict(x_test2)"
   ]
  },
  {
   "cell_type": "markdown",
   "id": "38ed8203",
   "metadata": {},
   "source": [
    "# Accuracy result"
   ]
  },
  {
   "cell_type": "code",
   "execution_count": 1374,
   "id": "de1d3f3f",
   "metadata": {},
   "outputs": [
    {
     "data": {
      "text/plain": [
       "84.55987151269483"
      ]
     },
     "execution_count": 1374,
     "metadata": {},
     "output_type": "execute_result"
    }
   ],
   "source": [
    "r2_score(predict_xtrain2, y_train2)*100"
   ]
  },
  {
   "cell_type": "code",
   "execution_count": 1375,
   "id": "1268d0ae",
   "metadata": {},
   "outputs": [
    {
     "data": {
      "text/plain": [
       "84.95574941178998"
      ]
     },
     "execution_count": 1375,
     "metadata": {},
     "output_type": "execute_result"
    }
   ],
   "source": [
    "r2_score(predict_xtest2, y_test2)*100"
   ]
  },
  {
   "cell_type": "code",
   "execution_count": null,
   "id": "dbac272e",
   "metadata": {},
   "outputs": [],
   "source": []
  },
  {
   "cell_type": "markdown",
   "id": "862c84cd",
   "metadata": {},
   "source": [
    "# MEAN Squared Error"
   ]
  },
  {
   "cell_type": "code",
   "execution_count": 1376,
   "id": "e0db728f",
   "metadata": {},
   "outputs": [
    {
     "data": {
      "text/plain": [
       "117698576.98967135"
      ]
     },
     "execution_count": 1376,
     "metadata": {},
     "output_type": "execute_result"
    }
   ],
   "source": [
    "score2 = mean_squared_error(predict_xtrain2, y_train2)\n",
    "score2"
   ]
  },
  {
   "cell_type": "code",
   "execution_count": 1377,
   "id": "575b0882",
   "metadata": {},
   "outputs": [
    {
     "data": {
      "text/plain": [
       "123111345.10458541"
      ]
     },
     "execution_count": 1377,
     "metadata": {},
     "output_type": "execute_result"
    }
   ],
   "source": [
    "score21 = mean_squared_error(predict_xtest2, y_test2)\n",
    "score21"
   ]
  },
  {
   "cell_type": "code",
   "execution_count": null,
   "id": "173c53d5",
   "metadata": {},
   "outputs": [],
   "source": []
  },
  {
   "cell_type": "markdown",
   "id": "a92d6cee",
   "metadata": {},
   "source": [
    "# Root Mean Squared"
   ]
  },
  {
   "cell_type": "markdown",
   "id": "2f46bb7a",
   "metadata": {},
   "source": [
    "# Train"
   ]
  },
  {
   "cell_type": "code",
   "execution_count": 1378,
   "id": "c3e0e055",
   "metadata": {},
   "outputs": [
    {
     "data": {
      "text/plain": [
       "10848.897501113712"
      ]
     },
     "execution_count": 1378,
     "metadata": {},
     "output_type": "execute_result"
    }
   ],
   "source": [
    "root = np.sqrt(score2)\n",
    "root"
   ]
  },
  {
   "cell_type": "code",
   "execution_count": 1379,
   "id": "bca9d473",
   "metadata": {},
   "outputs": [
    {
     "data": {
      "text/plain": [
       "11095.555195869443"
      ]
     },
     "execution_count": 1379,
     "metadata": {},
     "output_type": "execute_result"
    }
   ],
   "source": [
    "root1 = np.sqrt(score21)\n",
    "root1"
   ]
  },
  {
   "cell_type": "code",
   "execution_count": null,
   "id": "df29249b",
   "metadata": {},
   "outputs": [],
   "source": []
  },
  {
   "cell_type": "markdown",
   "id": "57f38896",
   "metadata": {},
   "source": [
    "# Pipline check"
   ]
  },
  {
   "cell_type": "code",
   "execution_count": 1380,
   "id": "12ba4d42",
   "metadata": {},
   "outputs": [],
   "source": [
    "from sklearn.compose import ColumnTransformer"
   ]
  },
  {
   "cell_type": "code",
   "execution_count": 1381,
   "id": "c5dff472",
   "metadata": {},
   "outputs": [],
   "source": [
    "from sklearn.preprocessing import OneHotEncoder\n",
    "from sklearn.preprocessing import RobustScaler\n",
    "from sklearn.pipeline import Pipeline"
   ]
  },
  {
   "cell_type": "code",
   "execution_count": 1384,
   "id": "6835fc21",
   "metadata": {},
   "outputs": [],
   "source": [
    "step1 = ColumnTransformer(transformers=[\n",
    "    ('ohe', OneHotEncoder(drop='first', sparse=False), ['Company','TypeName','graphic_processor','Gpu','OpSys'])\n",
    "], remainder='passthrough')\n",
    "\n",
    "\n",
    "\n"
   ]
  },
  {
   "cell_type": "code",
   "execution_count": 1386,
   "id": "7aca3bce",
   "metadata": {},
   "outputs": [],
   "source": [
    "pipe = Pipeline([\n",
    "    ('step1', step1), \n",
    "   ('regressor', GradientBoostingRegressor())\n",
    "])"
   ]
  },
  {
   "cell_type": "code",
   "execution_count": null,
   "id": "bbb7db57",
   "metadata": {},
   "outputs": [],
   "source": []
  },
  {
   "cell_type": "code",
   "execution_count": 1146,
   "id": "af547702",
   "metadata": {},
   "outputs": [],
   "source": [
    "import pickle\n",
    "\n",
    "#pickle.dump(file12,open('laptop.pkl','wb'))\n",
    "pickle.dump(pipe,open('pipe3.pkl','wb'))"
   ]
  },
  {
   "cell_type": "code",
   "execution_count": null,
   "id": "2c8b80b8",
   "metadata": {},
   "outputs": [],
   "source": []
  }
 ],
 "metadata": {
  "kernelspec": {
   "display_name": "Python 3 (ipykernel)",
   "language": "python",
   "name": "python3"
  },
  "language_info": {
   "codemirror_mode": {
    "name": "ipython",
    "version": 3
   },
   "file_extension": ".py",
   "mimetype": "text/x-python",
   "name": "python",
   "nbconvert_exporter": "python",
   "pygments_lexer": "ipython3",
   "version": "3.11.4"
  }
 },
 "nbformat": 4,
 "nbformat_minor": 5
}
